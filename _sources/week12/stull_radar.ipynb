{
 "cells": [
  {
   "cell_type": "code",
   "execution_count": null,
   "metadata": {},
   "outputs": [],
   "source": [
    "import numpy as np\n",
    "from numpy import log10\n",
    "from numpy.testing import assert_almost_equal"
   ]
  },
  {
   "cell_type": "code",
   "execution_count": null,
   "metadata": {},
   "outputs": [],
   "source": [
    "def findPr(Z,K2,La,R,R1=None,Pt=None,b=None,Z1=None):\n",
    "   \"\"\"\n",
    "    solve stull eqn 8.23\n",
    "    input: Z (mm^6/m^3), K2 (unitless), La (unitless),R (km)\n",
    "           plus radar coefficients appropriate to given radar (like Nexrad)\n",
    "    output: returns Pr in W \n",
    "   \"\"\" \n",
    "   Pr=Pt*b*K2/La**2.*(R1/R)**2.*Z\n",
    "   return Pr"
   ]
  },
  {
   "cell_type": "code",
   "execution_count": null,
   "metadata": {},
   "outputs": [],
   "source": [
    "if __name__==\"__main__\":\n",
    "    #stull p. 246 sample appliation\n",
    "    # given\n",
    "\n",
    "    #coefficents for nexrad\n",
    "    R1=2.17e-10#range factor, km, Stull 8.25\n",
    "    Pt=750.e3 #transmitted power, W, stull p. 246\n",
    "    b=14255 #equipment factor, Stull 8.26\n",
    "\n",
    "    nexrad=dict(R1=R1,Pt=Pt,b=b)\n",
    "\n",
    "    Z=1.e4  #Z of 40 dbZ\n",
    "    R=20    #range of 20 km\n",
    "    K2=0.93  #liquid water\n",
    "    La=1   #no attenuation\n",
    "    power_watts=findPr(Z,K2,La,R,**nexrad)\n",
    "    the_text=\"\"\"\n",
    "           Stull problem on p. 246: start with 40 dbZ at 20 km and\n",
    "           find Pr:\n",
    "           Here is the Pr: {Prval:10.5g} Watts\n",
    "           Here is  dbm -- decibels re 1 mWatt: {dBm:5.3f},\n",
    "    \"\"\"\n",
    "    values={'Prval':power_watts,'dBm':10*log10(power_watts*1.e3)}\n",
    "    print   the_text.format(**values)"
   ]
  },
  {
   "cell_type": "code",
   "execution_count": null,
   "metadata": {},
   "outputs": [],
   "source": []
  }
 ],
 "metadata": {
  "jupytext": {
   "cell_metadata_filter": "-all",
   "text_representation": {
    "extension": ".md",
    "format_name": "myst",
    "format_version": 0.12,
    "jupytext_version": "1.7.0"
   }
  },
  "kernelspec": {
   "display_name": "Python 3",
   "language": "python",
   "name": "python3"
  },
  "source_map": [
   15,
   21,
   33,
   60
  ]
 },
 "nbformat": 4,
 "nbformat_minor": 4
}