{
 "cells": [
  {
   "cell_type": "code",
   "execution_count": 1,
   "metadata": {},
   "outputs": [],
   "source": [
    "import numpy as np\n",
    "import matplotlib.pyplot as plt\n",
    "import matplotlib"
   ]
  },
  {
   "cell_type": "markdown",
   "metadata": {},
   "source": [
    "(heating-rate-profile)=\n",
    "\n",
    "# Heating rate profiles\n",
    "\n",
    "In {ref}`heating-rate` we showed that the heating rate $Q_r$ (K/s) for a particular height in\n",
    "the atmosphere was defined by:\n",
    "\n",
    "$$\n",
    "\\begin{aligned}\n",
    "\\rho c_p \\Delta z \\frac{dT}{dt} &= \\Delta E_n\\\\\n",
    "Q_r = \\frac{dT}{dt} &= \\frac{1}{\\rho c_p} \\frac{\\Delta E_n}{\\Delta z} = \\frac{1}{\\rho c_p} \\frac{dE_n}{dz}\n",
    "\\end{aligned}\n",
    "$$\n",
    "\n",
    "where $E_n$ was the net flux integrated over all wavelengths (positive downwards), and $\\Delta E_n$ is\n",
    "the net downward flux $(E_{ntop} - E_{nbot})$ across a layer of thickness $\\Delta z$.\n",
    "\n",
    "In this notebook we use the hydrostatic equation  from {ref}`hydro` and the flux equation\n",
    "from {ref}`flux_schwartzchild` to find dT/dz as a function of height for an atmosphere with\n",
    "containing an absorbing gas with a mixing ratio of $r_gas=0.01$ kg/kg and a mass absorption coefficient\n",
    "averaged across all longwave wavelengths of $k=0.01$   $m^2/kg$."
   ]
  },
  {
   "cell_type": "markdown",
   "metadata": {},
   "source": [
    "## Integrate the atmospheric pressure, temperature and density\n",
    "\n",
    "Recall equation {mat:numref}`hydro`:\n",
    "\n",
    "$$\n",
    "dp = -\\rho g dz\n",
    "$$\n",
    "\n",
    "for a hydrostatic atmosphere, if we assume that dT/dz is constant with height, we can\n",
    "build up an atmosphere one level at a time, but starting with know $p$, $\\rho$ and $T$ at the\n",
    "surface and using the values of $dT/dz$, $dp/dz$  to find $T$ and $p$ at the next level.  Once\n",
    "we have those, we can use the ideal gas law to find the density $\\rho$ and move up.\n",
    "\n",
    "This is done in the cell below."
   ]
  },
  {
   "cell_type": "code",
   "execution_count": 2,
   "metadata": {},
   "outputs": [],
   "source": [
    "def hydrostat(inputs, dT_dz):\n",
    "    \"\"\"\n",
    "       build a hydrostatic atmosphere by integrating the hydrostatic equation from the surface,\n",
    "       using num_levels of constant thickness delta_z\n",
    "       \n",
    "       Parameters\n",
    "       ----------\n",
    "       \n",
    "       T_surf: float\n",
    "            surface temperature in K\n",
    "       p_surf: float\n",
    "            surface pressure in Pa\n",
    "       dT_dz: ndarray\n",
    "              rate of temperature change with height in in layers (K/m)\n",
    "       delta_z: float\n",
    "             layer thickness in m\n",
    "       num_levels: float\n",
    "             number of levels in the atmosphere\n",
    "       \n",
    "       Returns\n",
    "       -------\n",
    "       \n",
    "       Temp, press, rho, height: tuple of ndarrays of length num_levels\n",
    "          where the surface is level 0, and each index i larger than 0\n",
    "          is located at the height corresponding to the top of a particular layer,\n",
    "          so that values at the top of the atmosphere are given by index\n",
    "          numlevels - 1\n",
    "       \n",
    "          Temp (K) , press (Pa), rho (kg/m^3), height (m) for each layer\n",
    "    \"\"\"\n",
    "    ii = inputs\n",
    "    Rd=287. #J/kg/K  -- gas constant for dry air\n",
    "    g=9.8  #m/s^2\n",
    "    Temp=np.empty([ii.num_levels])\n",
    "    press=np.empty_like(Temp)\n",
    "    rho=np.empty_like(Temp)\n",
    "    height=np.empty_like(Temp)\n",
    "    #\n",
    "    # level 0 sits directly above the surface, so start\n",
    "    # with pressure, temp of air equal to ground temp, press\n",
    "    # and get density from equaiton of state\n",
    "    #\n",
    "    press[0]=ii.p_surf\n",
    "    Temp[0]=ii.T_surf\n",
    "    rho[0]=ii.p_surf/(Rd*ii.T_surf)\n",
    "    height[0]=0\n",
    "    num_layers=ii.num_levels - 1\n",
    "    #now march up the atmosphere a level at a time\n",
    "    # finding the values at the top of each layer\n",
    "    for i in range(num_layers):\n",
    "        delP= -rho[i]*g*ii.delta_z\n",
    "        height[i+1] = height[i] + ii.delta_z\n",
    "        Temp[i+1] = Temp[i] + dT_dz[i]*ii.delta_z\n",
    "        press[i+1]= press[i] + delP\n",
    "        rho[i+1]=press[i+1]/(Rd*Temp[i+1])\n",
    "    return (Temp,press,rho,height)"
   ]
  },
  {
   "cell_type": "markdown",
   "metadata": {},
   "source": [
    "## Next we can find the optical depth \n",
    "\n",
    "If we have the air density $\\rho$, the mixing ratio $r_{mix}$ asnd  the absorption coefficient $k$ from Stull Chapter 2\n",
    "section 2.3.6 we can find the optical depth in the layer:\n",
    "\n",
    "$$\n",
    "\\tau = \\rho r_{mix} k \\Delta z\n",
    "$$\n",
    "\n",
    "where $\\Delta z$ is the layer thickness.  That's done in the next cell."
   ]
  },
  {
   "cell_type": "code",
   "execution_count": 3,
   "metadata": {},
   "outputs": [],
   "source": [
    "def find_tau(r_gas,k,rho,height):\n",
    "    \"\"\"\n",
    "       Parameters\n",
    "       ----------\n",
    "       \n",
    "       r_gas: float\n",
    "           gas mixing ratio in kg/kg\n",
    "       k: float\n",
    "           mass absorption coefficient in kg/m^2\n",
    "       rho: ndarray\n",
    "           vector of air densities in kg/m^3 for each layer\n",
    "       height: ndarray\n",
    "        corresponding level heights in m\n",
    "        \n",
    "       Returns\n",
    "       -------\n",
    "       \n",
    "          tau: ndarray \n",
    "             vertical optical depths of each level, starting from 0 at the surface\n",
    "    \"\"\"\n",
    "    tau=np.empty_like(rho)\n",
    "    tau[0]=0\n",
    "    num_levels=len(rho)\n",
    "    num_layers=num_levels - 1\n",
    "    for index in range(num_layers):\n",
    "        delta_z=height[index+1] - height[index]\n",
    "        delta_tau=r_gas*rho[index]*k*delta_z\n",
    "        tau[index+1]=tau[index] + delta_tau\n",
    "    return tau"
   ]
  },
  {
   "cell_type": "markdown",
   "metadata": {},
   "source": [
    "## Flux with height\n",
    "\n",
    "Note the factor of 1.666 below that multiplies the optical depth in\n",
    "the transmission -- this is the flux diffusivity approximation.  The function below\n",
    "solves for the upward and downward fluxes one layer at at time by calculating\n",
    "the transmitted flux arriving from the bottom or the top of each layer, and the\n",
    "emitted flux that the layer is sending to the next layer above or below using the equation given in\n",
    "{math:numref}`layer_flux`. This is the\n",
    "\"two stream approximation\" mentioned in {ref}`two-stream-approx`\n",
    "\n",
    "Assumption:  layers are thin enough so that it is safe to assume constant values\n",
    "within each layer"
   ]
  },
  {
   "cell_type": "code",
   "execution_count": 4,
   "metadata": {},
   "outputs": [],
   "source": [
    "def fluxes(tau,Temp,height,T_surf):\n",
    "    \"\"\"\n",
    "    given properties at each level return the upward and downward\n",
    "    total flux at each level assuming no downward longwave flux at the top\n",
    "    of the atmosphere, and a surface flux of sigma*T_surf**4.\n",
    "    \n",
    "    Parameters\n",
    "    -----------\n",
    "    \n",
    "    tau, Temp, height:  ndarray of length tot_levels\n",
    "        total optical depth (from surface), temperature (K) and height (m)\n",
    "        at each level\n",
    "        \n",
    "    Returns\n",
    "    -------\n",
    "    \n",
    "    up_flux, down_flux: ndarrays\n",
    "       upward and downward flux of each level (W/m^2), all positive\n",
    "    \n",
    "    \"\"\"\n",
    "    sigma=5.67e-8 #W/m^2/K^4\n",
    "    up_flux=np.empty_like(height)\n",
    "    down_flux=np.empty_like(height)\n",
    "    sfc_flux=sigma*T_surf**4.\n",
    "    up_flux[0]=sfc_flux\n",
    "    tot_levs=len(tau)\n",
    "    for index in np.arange(1,tot_levs):\n",
    "        upper_lev=index\n",
    "        lower_lev=index - 1\n",
    "        del_tau=tau[upper_lev] - tau[lower_lev]\n",
    "        trans=np.exp(-del_tau)\n",
    "        emiss=1 - trans\n",
    "        layer_flux=sigma*Temp[lower_lev]**4.*emiss\n",
    "        #\n",
    "        # find the flux at the next level\n",
    "        #\n",
    "        up_flux[upper_lev]=trans*up_flux[lower_lev] + layer_flux\n",
    "    #\n",
    "    # start at the top of the atmosphere\n",
    "    # with zero downwelling flux\n",
    "    #\n",
    "    down_flux[tot_levs-1]=0\n",
    "    #\n",
    "    # go down a level at a time, adding up the fluxes\n",
    "    #\n",
    "    for index in np.arange(1,tot_levs):\n",
    "        upper_lev=tot_levs - index\n",
    "        lower_lev=tot_levs - index -1\n",
    "        del_tau=tau[upper_lev] - tau[lower_lev]\n",
    "        trans=np.exp(-1.666*del_tau)\n",
    "        emiss=1 - trans\n",
    "        layer_flux=sigma*Temp[upper_lev]**4.*emiss\n",
    "        down_flux[lower_lev]=down_flux[upper_lev]*trans + layer_flux\n",
    "    return (up_flux,down_flux)"
   ]
  },
  {
   "cell_type": "code",
   "execution_count": 5,
   "metadata": {},
   "outputs": [],
   "source": [
    "def heating_rate(net_down,height,rho):\n",
    "    \"\"\"\n",
    "    given the net flux at each level (downward positive) and the\n",
    "    height, and density of the atmosphere at each level, return\n",
    "    the rate of change of temperature in each layer between two levels\n",
    "    \n",
    "    Parameters\n",
    "    ----------\n",
    "    \n",
    "    net_down: ndarray\n",
    "       positive downward net flux (W/m^2) at each level\n",
    "       \n",
    "    height: ndarray\n",
    "       vertical location of each level (m)\n",
    "       \n",
    "    rho: ndarray\n",
    "       density (kg/m^3) at each level\n",
    "    \n",
    "    Returns\n",
    "    -------\n",
    "    \n",
    "    dT_dz: ndarray  -- length nlevels -1\n",
    "       vector of temperature gradients across each layer (K/m)\n",
    "       \n",
    "    \n",
    "    \"\"\"\n",
    "    \n",
    "    cpd=1004.\n",
    "    #\n",
    "    # find the flux divergence across the layer\n",
    "    # by differencing the levels.  Assume the layer density is constant\n",
    "    # and equal to the average of the densities at the top and bottom levels\n",
    "    #\n",
    "    rho_mid=(rho[1:] + rho[:-1])/2.\n",
    "    dEn_dz= np.diff(net_down)/np.diff(height)\n",
    "    dT_dz=dEn_dz/(rho_mid*cpd)\n",
    "    return dT_dz"
   ]
  },
  {
   "cell_type": "code",
   "execution_count": 6,
   "metadata": {},
   "outputs": [],
   "source": [
    "#\n",
    "# use 15000 1 m thick layers from 0 to 15 km\n",
    "#\n",
    "input_vals = dict(\n",
    "    r_gas=0.01, #kg/kg\n",
    "    k=0.01,  #m^2/kg\n",
    "    T_surf=300 ,#K\n",
    "    p_surf=100.e3, #Pa\n",
    "    dT_dz = -7.e-3, #K/km\n",
    "    delta_z=1,  #m\n",
    "    num_levels=1500,\n",
    "    delta_t = 3600, # seconds\n",
    "    num_timesteps = 10\n",
    ")\n",
    "from types import SimpleNamespace\n",
    "inputs = SimpleNamespace(**input_vals)"
   ]
  },
  {
   "cell_type": "code",
   "execution_count": 7,
   "metadata": {},
   "outputs": [
    {
     "data": {
      "image/png": "[encoded data removed]",
      "text/plain": [
       "<Figure size 1080x720 with 3 Axes>"
      ]
     },
     "metadata": {
      "filenames": {
       "image/png": "/home/phil/repos/a301_2020/notebooks/_build/jupyter_execute/week12/heating_rate_evolution_10_0.png"
      },
      "needs_background": "light"
     },
     "output_type": "display_data"
    }
   ],
   "source": [
    "def prof_plot(inputs, dT_dz):\n",
    "    \"\"\"\n",
    "    find the heating rate (K/km) for a hydrostatic\n",
    "    atmosphere with a constant decrease of temperature with heigt\n",
    "    \"\"\"\n",
    "    ii=inputs\n",
    "    #\n",
    "    #\n",
    "    #\n",
    "    Temp,press,rho,height=hydrostat(inputs,dT_dz)\n",
    "    tau=find_tau(ii.r_gas,ii.k,rho,height)\n",
    "    up,down=fluxes(tau,Temp,height,ii.T_surf)\n",
    "    dT_dz=heating_rate(down-up,height,rho)\n",
    "\n",
    "    fig,axes=plt.subplots(1,3,figsize=(15,10));\n",
    "    axis1, axis2, axis3 = axes[:]\n",
    "    axis1.plot(up,height*0.001,'b-',lw=5,label='upward flux')\n",
    "    axis1.plot(down,height*0.001,'g-',lw=5,label='downward flux')\n",
    "    axis1.set_title('upward and downward fluxes')\n",
    "    axis1.set_xlabel('flux $(W\\,m^{-2}$')\n",
    "    axis1.set_ylabel('height (km)')\n",
    "    axis1.legend(numpoints=1,loc='best')\n",
    "    axis1.grid(True);\n",
    "\n",
    "    \n",
    "    axis2.plot(up-down,height*0.001,'b-',lw=5)\n",
    "    axis2.set_title('net downward flux')\n",
    "    axis2.set_xlabel('net downward flux $(W\\,m^{-2})$')\n",
    "    axis2.set_ylabel('height (km)')\n",
    "    axis2.grid(True);\n",
    "\n",
    "\n",
    "    dT_dz=dT_dz*3600.\n",
    "    mid_height=(height[1:] + height[:-1])/2.\n",
    "    axis3.plot(dT_dz,mid_height*0.001,'b-',lw=5)\n",
    "    axis3.set_title('heating rate')\n",
    "    axis3.set_xlabel('heating rate in K/hr')\n",
    "    axis3.set_ylabel('height (km)')\n",
    "    axis3.grid(True);\n",
    "    return fig;\n",
    "\n",
    "dT_dz = np.ones([inputs.num_levels])*inputs.dT_dz;\n",
    "the_fig = prof_plot(inputs,dT_dz);"
   ]
  },
  {
   "cell_type": "code",
   "execution_count": 8,
   "metadata": {},
   "outputs": [],
   "source": [
    "def evolve_prof(inputs):\n",
    "    ii=inputs\n",
    "    dT_dz = np.ones([inputs.num_levels])*inputs.dT_dz;\n",
    "    Temp,press,rho,height=hydrostat(inputs,dT_dz)\n",
    "    keep_temps = [Temp]\n",
    "    for a_time in range(ii.num_timesteps):\n",
    "        tau=find_tau(ii.r_gas,ii.k,rho,height)\n",
    "        up,down=fluxes(tau,Temp,height,ii.T_surf)\n",
    "        dT_dz=heating_rate(up - down,height,rho)\n",
    "        Temp,press,rho,height=hydrostat(inputs,dT_dz)\n",
    "        keep_temps.append(Temp)\n",
    "    return keep_temps, height\n",
    "\n",
    "out, height = evolve_prof(inputs)        \n",
    "\n",
    "        \n",
    "    \n",
    "        "
   ]
  },
  {
   "cell_type": "code",
   "execution_count": 9,
   "metadata": {},
   "outputs": [
    {
     "data": {
      "text/plain": [
       "[<matplotlib.lines.Line2D at 0x7fdab4ceb070>]"
      ]
     },
     "execution_count": 9,
     "metadata": {},
     "output_type": "execute_result"
    },
    {
     "data": {
      "image/png": "[encoded data removed]",
      "text/plain": [
       "<Figure size 432x288 with 1 Axes>"
      ]
     },
     "metadata": {
      "filenames": {
       "image/png": "/home/phil/repos/a301_2020/notebooks/_build/jupyter_execute/week12/heating_rate_evolution_12_1.png"
      },
      "needs_background": "light"
     },
     "output_type": "display_data"
    }
   ],
   "source": [
    "plt.plot(out[5],height)"
   ]
  }
 ],
 "metadata": {
  "jupytext": {
   "cell_metadata_filter": "-all",
   "notebook_metadata_filter": "all,-language_info,-toc,-latex_envs",
   "text_representation": {
    "extension": ".md",
    "format_name": "myst",
    "format_version": 0.12,
    "jupytext_version": "1.6.0"
   }
  },
  "kernelspec": {
   "display_name": "Python 3",
   "language": "python",
   "name": "python3"
  },
  "language_info": {
   "codemirror_mode": {
    "name": "ipython",
    "version": 3
   },
   "file_extension": ".py",
   "mimetype": "text/x-python",
   "name": "python",
   "nbconvert_exporter": "python",
   "pygments_lexer": "ipython3",
   "version": "3.8.6"
  },
  "source_map": [
   16,
   20,
   44,
   61,
   118,
   131,
   161,
   176,
   233,
   273,
   292,
   338,
   359
  ]
 },
 "nbformat": 4,
 "nbformat_minor": 4
}