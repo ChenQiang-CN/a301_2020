{
 "cells": [
  {
   "cell_type": "markdown",
   "metadata": {
    "toc": true
   },
   "source": [
    "<h1>Table of Contents<span class=\"tocSkip\"></span></h1>\n",
    "<div class=\"toc\"><ul class=\"toc-item\"><li><span><a href=\"#Using-Stull-eqn.-8.4-to-find-the-outgoing-radiance\" data-toc-modified-id=\"Using-Stull-eqn.-8.4-to-find-the-outgoing-radiance-1\"><span class=\"toc-item-num\">1&nbsp;&nbsp;</span>Using Stull eqn. 8.4 to find the outgoing radiance</a></span></li><li><span><a href=\"#Autograded-answer\" data-toc-modified-id=\"Autograded-answer-2\"><span class=\"toc-item-num\">2&nbsp;&nbsp;</span>Autograded answer</a></span></li></ul></div>"
   ]
  },
  {
   "cell_type": "markdown",
   "metadata": {},
   "source": [
    "# Using Stull eqn. 8.4 to find the outgoing radiance\n",
    "\n",
    "\n",
    "Complete the function below that calculates the radiance through the top\n",
    "of a stack of layers given the optical thickness, layer temperature and\n",
    "surface temperature.  I borrowed code from the weighting_functions notebook, my\n",
    "answer is 9 lines of code including the return statement"
   ]
  },
  {
   "cell_type": "code",
   "execution_count": null,
   "metadata": {
    "nbgrader": {
     "grade": false,
     "grade_id": "cell-fd01f03a19a1c3e4",
     "locked": false,
     "schema_version": 2,
     "solution": true
    }
   },
   "outputs": [],
   "source": [
    "import pdb\n",
    "\n",
    "import numpy as np\n",
    "\n",
    "from a301.radiation import calc_radiance\n",
    "\n",
    "\n",
    "def multi_layer_radiance(Tsfc, Temps, tau, the_wavel):\n",
    "    \"\"\"\n",
    "    Find the radiance $L_λ$ reaching a satllite from an N-level atmosphere\n",
    "    using Stull equation 8.4\n",
    "    \n",
    "    Given N levels (counting surface), and N-1 layers with the following layout:\n",
    "    \n",
    "    ============= tau[-1]\n",
    "    \n",
    "      Temps[-1]\n",
    "      \n",
    "    ============= tau[N-2]\n",
    "      \n",
    "      .....\n",
    "      \n",
    "    ============= tau[2]\n",
    "    \n",
    "      Temps[1]\n",
    "      \n",
    "    ============= tau[1]\n",
    "     \n",
    "      Temps[0]\n",
    "      \n",
    "    ============= Tsfc, tau[0]=0\n",
    "    \n",
    "    this function calculates the vertical, upward, monochromatic radiance\n",
    "    at a given wavelength, passing through the top level N of layer N-1.  It includes\n",
    "    both surface emission (assuming a black surface at temperature Tsfc)\n",
    "    \n",
    "    Parameters\n",
    "    ----------\n",
    "    \n",
    "    Tsfc:  float (Kelvin)\n",
    "       temperature of the black surface\n",
    "    \n",
    "    Temps: numpy vector (Kelvin)\n",
    "       Layer temperatures with Temps[0] being closest to the surface\n",
    "       Length is N-1, where N is the number of levels\n",
    "       \n",
    "    tau: numpy vector (unitless)\n",
    "       Level values of the absorption optical thicknesses at this wavelength\n",
    "       taus[0]=0 is the surface, tau[-1]=tau_tot is the total optical thickness\n",
    "       lenght is N, the number of levels\n",
    "       \n",
    "    the_wavel: float (m)\n",
    "       wavelength for calc_radiance\n",
    "       \n",
    "    Returns\n",
    "    -------\n",
    "    \n",
    "    Radiance: float (W/m^2/m/sr) \n",
    "       Radiance from the surface and layers passing through the top level\n",
    "    \n",
    "    \n",
    "    \"\"\"\n",
    "    ### BEGIN SOLUTION\n",
    "    Batm = np.array([calc_radiance(the_wavel, the_temp) for the_temp in Temps])\n",
    "    Bsfc = calc_radiance(the_wavel, Tsfc)\n",
    "    tau_tot = tau[-1]\n",
    "    trans = np.exp(-(tau_tot - tau))\n",
    "    weights = np.diff(trans)\n",
    "    sfc_flux = Bsfc * np.exp(-tau_tot)\n",
    "    atm_flux = np.sum(Batm * weights)\n",
    "    print(f\"{type(Batm)}, {type(weights)}\")\n",
    "    the_flux = sfc_flux + atm_flux\n",
    "    return the_flux\n",
    "    ### END SOLUTION"
   ]
  },
  {
   "cell_type": "markdown",
   "metadata": {},
   "source": [
    "# Autograded answer\n",
    "\n",
    "Here is a test set of layers that should produce a radiance of 9.045 W/m^2/micron/sr"
   ]
  },
  {
   "cell_type": "code",
   "execution_count": null,
   "metadata": {
    "nbgrader": {
     "grade": true,
     "grade_id": "cell-87648d98f7078676",
     "locked": true,
     "points": 3,
     "schema_version": 2,
     "solution": false
    }
   },
   "outputs": [],
   "source": [
    "from numpy.testing import assert_almost_equal\n",
    "\n",
    "Temps = np.asarray([300.0, 280.0, 270.0, 260.0])\n",
    "taus = np.asarray([0.0, 0.2, 0.35, 0.5, 0.6])\n",
    "Tsfc = 305.0\n",
    "the_wavel = 10.0e-6\n",
    "out = multi_layer_radiance(Tsfc, Temps, taus, the_wavel)\n",
    "assert_almost_equal(out * 1.0e-6, 9.045, decimal=3)"
   ]
  },
  {
   "cell_type": "code",
   "execution_count": null,
   "metadata": {
    "nbgrader": {
     "grade": true,
     "grade_id": "cell-2b9eda536a6863f6",
     "locked": true,
     "points": 0,
     "schema_version": 2,
     "solution": false
    }
   },
   "outputs": [],
   "source": [
    "### BEGIN HIDDEN TESTS\n",
    "Temps = np.asarray([300.0, 280.0, 270.0, 260.0, 240.0, 230.0])\n",
    "taus = np.asarray([0.0, 0.2, 0.35, 0.5, 0.6, 0.65, 0.75])\n",
    "Tsfc = 305.0\n",
    "the_wavel = 10.0e-6\n",
    "out = multi_layer_radiance(Tsfc, Temps, taus, the_wavel)\n",
    "assert_almost_equal(out * 1.0e-6, 8.134, decimal=3)\n",
    "### END HIDDEN TESTS"
   ]
  },
  {
   "cell_type": "code",
   "execution_count": null,
   "metadata": {},
   "outputs": [],
   "source": []
  }
 ],
 "metadata": {
  "jupytext": {
   "encoding": "# -*- coding: utf-8 -*-",
   "formats": "ipynb,md:myst,py:percent",
   "text_representation": {
    "extension": ".md",
    "format_name": "myst",
    "format_version": 0.12,
    "jupytext_version": "1.6.0-dev"
   }
  },
  "kernelspec": {
   "display_name": "Python 3",
   "language": "python",
   "name": "python3"
  },
  "source_map": [
   16,
   21,
   31,
   114,
   120,
   140,
   160
  ]
 },
 "nbformat": 4,
 "nbformat_minor": 4
}