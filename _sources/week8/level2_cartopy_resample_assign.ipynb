{
 "cells": [
  {
   "cell_type": "markdown",
   "metadata": {},
   "source": [
    "(assign5a)=\n",
    "# Assign 5a: Water vapor retrieval using MYD05 data"
   ]
  },
  {
   "cell_type": "markdown",
   "metadata": {},
   "source": [
    "## Near IR vs. IR datasets\n",
    "\n",
    "Modis provides two separate measurements on the column integrated water vapor.\n",
    "The high level overview is given in the [modis water vapor products](https://atmosphere-imager.gsfc.nasa.gov/products/water-vapor).  Basically the reason for two separate retrievals is that they have different strengths and weaknesses.\n",
    "\n",
    "* Near Infrared Retrieval\n",
    "\n",
    "  * Uses reflected photons in two separate water vapor absorption bands\n",
    "\n",
    "  * Strengths\n",
    "\n",
    "    * 1 km spatial resolution at nadir\n",
    "\n",
    "    * retrieval doesn't depend on temperature difference between vapor and surface\n",
    "\n",
    "    * more accurate than longwave\n",
    "\n",
    "  * Weaknesses\n",
    "\n",
    "    * Doesn't work at night\n",
    "\n",
    "    * Doesn't work over dark surfaces (can work over ocean\n",
    "      as long as the pixel is reflecting direct sunlight (\"sunglint\")\n",
    "\n",
    "    * Needs separate MYD03 file for lats/lons\n",
    "\n",
    "* Infrared Retrieval\n",
    "\n",
    "  * Uses the water absorption bands near 11 microns\n",
    "\n",
    "  * Strengths\n",
    "\n",
    "    * Works day/night, over dark surfaces\n",
    "\n",
    "    * 5 km lat/lons included in file\n",
    "\n",
    "  * Weaknesses\n",
    "\n",
    "    * 5 km pixels at nadir\n",
    "\n",
    "    * Doesn't work when most of the vapor is in the boundary layer and has about the same temperature\n",
    "      as the surface"
   ]
  },
  {
   "cell_type": "markdown",
   "metadata": {},
   "source": [
    "* What this notebook does\n",
    "\n",
    "1. Reads an MYD05 file named `MYD05*.hdf` located\n",
    "   in `a301_lib.sat_data/hdf4_files` and grabs latitudes, longitudes and two arrays: `Water_Vapor_Near_Infrared` and\n",
    "   `Water_Vapor_Infrared`\n",
    "\n",
    "1. Scales the water vapar arrays by scale_factor and offset to produce the retrieved column water vapor\n",
    "   in cm\n",
    "\n",
    "1. Maps the two arrays onto the same 5km array for direct comparison\n",
    "\n",
    "1. Maps the `near_ir` array onto a 1 km grid to show the full resolution.\n",
    "\n",
    "1. Writes the three images with their area_def map information and metadata out to new folders in\n",
    "   `./map_data/wv_maps` as npz files (for the images) and json files (for the metadata)"
   ]
  },
  {
   "cell_type": "markdown",
   "metadata": {},
   "source": [
    "* Setup\n",
    "\n",
    "1. Download the MYD05 granule that corresponds to your 5 minute date/time.  It should look something like:\n",
    "\n",
    "         MYD05_L2.A2013222.2105.061.2018048043105.hdf\n",
    "\n",
    "1. Copy it into the google_drive `a301_data` folder"
   ]
  },
  {
   "cell_type": "code",
   "execution_count": null,
   "metadata": {},
   "outputs": [],
   "source": [
    "import json\n",
    "import pdb\n",
    "import pprint\n",
    "from pathlib import Path\n",
    "\n",
    "import numpy as np\n",
    "from IPython.display import display\n",
    "from IPython.display import Image\n",
    "from matplotlib import cm\n",
    "from matplotlib import pyplot as plt\n",
    "from matplotlib.colors import Normalize\n",
    "from pyhdf.SD import SD\n",
    "from pyhdf.SD import SDC\n",
    "\n",
    "import a301_lib\n",
    "from sat_lib.geometry import get_proj_params\n",
    "from sat_lib.modismeta_read import parseMeta\n",
    "## Image('figures/MYBRGB.A2016224.2100.006.2016237025650.jpg',width=600)"
   ]
  },
  {
   "cell_type": "code",
   "execution_count": null,
   "metadata": {},
   "outputs": [],
   "source": [
    "%matplotlib inline"
   ]
  },
  {
   "cell_type": "markdown",
   "metadata": {},
   "source": [
    "* Read in the 1km and 5km water vapor files"
   ]
  },
  {
   "cell_type": "markdown",
   "metadata": {},
   "source": [
    "* Start with the lats/lons for 1km and 5km"
   ]
  },
  {
   "cell_type": "code",
   "execution_count": null,
   "metadata": {},
   "outputs": [],
   "source": [
    "m5_file= (a301_lib.sat_data / 'hdf4_files').glob(\"**/MYD05*2105*hdf\")\n",
    "m3_file = (a301_lib.sat_data / 'hdf4_files').glob(\"MYD03*2105*.hdf\")\n",
    "m5_file_str = str(list(m5_file)[0])\n",
    "m3_file_str = str(list(m3_file)[0])\n",
    "print(m5_file_str)\n",
    "print(m3_file_str)\n",
    "\n",
    "the_file = SD(m3_file_str, SDC.READ)\n",
    "lats_1km = the_file.select(\"Latitude\").get()\n",
    "lons_1km = the_file.select(\"Longitude\").get()\n",
    "the_file.end()\n",
    "print(lats_1km.shape)\n",
    "\n",
    "the_file = SD(m5_file_str, SDC.READ)\n",
    "lats_5km = the_file.select(\"Latitude\").get()\n",
    "lons_5km = the_file.select(\"Longitude\").get()\n",
    "the_file.end()\n",
    "print(lats_5km.shape)"
   ]
  },
  {
   "cell_type": "markdown",
   "metadata": {},
   "source": [
    "* Get the IR vapor plus 5 of its attributes\n",
    "\n",
    "Store the data in a numpy array, and the attributes in a dictionary,\n",
    "using a [dictionary comprehension](https://jakevdp.github.io/WhirlwindTourOfPython/11-list-comprehensions.html)\n",
    "at line 4"
   ]
  },
  {
   "cell_type": "code",
   "execution_count": null,
   "metadata": {},
   "outputs": [],
   "source": [
    "the_file = SD(m5_file_str, SDC.READ)\n",
    "wv_ir = the_file.select(\"Water_Vapor_Infrared\")\n",
    "attributes = [\"units\", \"scale_factor\", \"add_offset\", \"valid_range\", \"_FillValue\"]\n",
    "attr_dict = wv_ir.attributes()\n",
    "wv_ir_attrs = {k: attr_dict[k] for k in attributes}\n",
    "print(f\"wv_ir attributes: {pprint.pformat(wv_ir_attrs)}\")\n",
    "wv_ir_data = wv_ir.get()\n",
    "the_file.end()"
   ]
  },
  {
   "cell_type": "markdown",
   "metadata": {},
   "source": [
    "* Replace -9999 with np.nan\n",
    "\n",
    "Note that this has to a happen before we scale the data by the scale_factor so the -9999 can be recognized"
   ]
  },
  {
   "cell_type": "code",
   "execution_count": null,
   "metadata": {},
   "outputs": [],
   "source": [
    "bad_data = wv_ir_data == wv_ir_attrs[\"_FillValue\"]\n",
    "#\n",
    "# next line converts to floating point so we can use np.nan\n",
    "#\n",
    "wv_ir_data = wv_ir_data.astype(np.float32)\n",
    "wv_ir_data[bad_data] = np.nan"
   ]
  },
  {
   "cell_type": "markdown",
   "metadata": {},
   "source": [
    "* now scale the data and histogram it"
   ]
  },
  {
   "cell_type": "code",
   "execution_count": null,
   "metadata": {},
   "outputs": [],
   "source": [
    "wv_ir_scaled = wv_ir_data * attr_dict[\"scale_factor\"] + attr_dict[\"add_offset\"]"
   ]
  },
  {
   "cell_type": "markdown",
   "metadata": {},
   "source": [
    "Note that we need to get rid of all nan values by taking ~ (not) np.isnan\n",
    "\n",
    "```\n",
    "plt.hist(wv_ir_scaled)\n",
    "```\n",
    "won't work"
   ]
  },
  {
   "cell_type": "code",
   "execution_count": null,
   "metadata": {},
   "outputs": [],
   "source": [
    "plt.hist(wv_ir_scaled[~np.isnan(wv_ir_scaled)])\n",
    "ax = plt.gca()\n",
    "ax.set_title(\"5 km wv data (cm)\");"
   ]
  },
  {
   "cell_type": "markdown",
   "metadata": {},
   "source": [
    "* Repeat for the 1 km near-ir data\n",
    "\n",
    "Use a dictionary comprehension again to move the attributes in attrib_list into a dict at line 4"
   ]
  },
  {
   "cell_type": "code",
   "execution_count": null,
   "metadata": {},
   "outputs": [],
   "source": [
    "the_file = SD(m5_file_str, SDC.READ)\n",
    "wv_nearir = the_file.select(\"Water_Vapor_Near_Infrared\")\n",
    "attrib_list = [\"unit\", \"scale_factor\", \"add_offset\", \"valid_range\", \"_FillValue\"]\n",
    "attr_dict = wv_nearir.attributes()\n",
    "wv_nearir_attrs = {k: attr_dict[k] for k in attrib_list}\n",
    "print(f\"wv_nearir attributes: {pprint.pformat(wv_nearir_attrs)}\")\n",
    "wv_nearir_data = wv_nearir.get()\n",
    "the_file.end()"
   ]
  },
  {
   "cell_type": "code",
   "execution_count": null,
   "metadata": {},
   "outputs": [],
   "source": [
    "bad_data = wv_nearir_data == wv_nearir_attrs[\"_FillValue\"]\n",
    "wv_nearir_data = wv_nearir_data.astype(np.float32)\n",
    "wv_nearir_data[bad_data] = np.nan\n",
    "wv_nearir_scaled = wv_nearir_data * attr_dict[\"scale_factor\"] + attr_dict[\"add_offset\"]"
   ]
  },
  {
   "cell_type": "markdown",
   "metadata": {},
   "source": [
    "* Note that the  scaled wv values are similar between near_ir and ir retrievals"
   ]
  },
  {
   "cell_type": "code",
   "execution_count": null,
   "metadata": {},
   "outputs": [],
   "source": [
    "plt.hist(wv_nearir_scaled[~np.isnan(wv_nearir_scaled)])\n",
    "ax = plt.gca()\n",
    "ax.set_title(\"1 km water vapor (cm)\")"
   ]
  },
  {
   "cell_type": "markdown",
   "metadata": {},
   "source": [
    "### Map the data"
   ]
  },
  {
   "cell_type": "markdown",
   "metadata": {},
   "source": [
    "* Resample the 5km IR retrieval onto a laea xy grid\n",
    "\n",
    "Let swath_def.compute_optimal_bb_area choose the extent and dimensions for\n",
    "the low resolution (lr) image.  The cell below let's pyresample create the\n",
    "area_def object, which we will reuse for the 1 km watervapor retrieval to\n",
    "get both onto the same grid.\n",
    "\n",
    "The cell below produces:\n",
    "\n",
    "* `image_wv_ir`  -- resampled 5 km infrared water vapor\n",
    "* `area_def_lr`  -- area_def used for the resample"
   ]
  },
  {
   "cell_type": "code",
   "execution_count": null,
   "metadata": {},
   "outputs": [],
   "source": [
    "from pyresample import SwathDefinition, kd_tree, geometry\n",
    "\n",
    "proj_params = get_proj_params(m5_file_str)\n",
    "swath_def = SwathDefinition(lons_5km, lats_5km)\n",
    "area_def_lr = swath_def.compute_optimal_bb_area(proj_dict=proj_params)\n",
    "#area_def_lr.name = \"ir wv retrieval modis 5 km resolution (lr=low resolution)\"\n",
    "#area_def_lr.area_id = \"modis_ir_wv\"\n",
    "#area_def_lr.job_id = area_def_lr.area_id\n",
    "fill_value = -9999.0\n",
    "image_wv_ir = kd_tree.resample_nearest(\n",
    "    swath_def,\n",
    "    wv_ir_scaled.ravel(),\n",
    "    area_def_lr,\n",
    "    radius_of_influence=5000,\n",
    "    nprocs=2,\n",
    "    fill_value=fill_value,\n",
    ")\n",
    "image_wv_ir[image_wv_ir < -9000] = np.nan\n",
    "print(f\"\\ndump area definition:\\n{area_def_lr}\\n\")\n",
    "print(\n",
    "    (\n",
    "        f\"\\nx and y pixel dimensions in meters:\"\n",
    "        f\"\\n{area_def_lr.pixel_size_x}\\n{area_def_lr.pixel_size_y}\\n\"\n",
    "    )\n",
    ")"
   ]
  },
  {
   "cell_type": "markdown",
   "metadata": {},
   "source": [
    "* Resample the 1km near-ir water vapor on the same grid\n",
    "\n",
    "Reuse area_def_lr for the high resolution nearir image so we can compare directly with low resolution ir\n",
    "\n",
    "The cell below produces:\n",
    "\n",
    "* `image_wv_nearir_lr`  -- resampled using `area_def_lr`"
   ]
  },
  {
   "cell_type": "code",
   "execution_count": null,
   "metadata": {},
   "outputs": [],
   "source": [
    "swath_def = SwathDefinition(lons_1km, lats_1km)\n",
    "fill_value = -9999.0\n",
    "image_wv_nearir_lr = kd_tree.resample_nearest(\n",
    "    swath_def,\n",
    "    wv_nearir_scaled.ravel(),\n",
    "    area_def_lr,\n",
    "    radius_of_influence=5000,\n",
    "    nprocs=2,\n",
    "    fill_value=fill_value,\n",
    ")\n",
    "#\n",
    "# pyresampled pixels outside of image are set to -9999\n",
    "#\n",
    "image_wv_nearir_lr[image_wv_nearir_lr < -9000] = np.nan"
   ]
  },
  {
   "cell_type": "code",
   "execution_count": null,
   "metadata": {},
   "outputs": [],
   "source": [
    "plt.hist(image_wv_nearir_lr[~np.isnan(image_wv_nearir_lr)])\n",
    "ax = plt.gca()\n",
    "ax.set_title(\"1 km water vapor (cm), low resolution nearir scaled to 5km (lr)\");"
   ]
  },
  {
   "cell_type": "markdown",
   "metadata": {},
   "source": [
    "* now use the 1 km MYD03 lons and lats to get a full resolution xy grid\n",
    "\n",
    "resample the neair wv onto that grid to show full resolution image.  Call this\n",
    "area_def area_def_hr\n",
    "\n",
    "The cell below produces:\n",
    "\n",
    "* `image_wv_nearir_hr`  -- 1 km near-ir watervapor\n",
    "* `area_def_hr`  -- the `area_def` file used to do the 1 k resample\n",
    "\n",
    "### Resample the 1 km near-ir water vapor onto a 1 km grid"
   ]
  },
  {
   "cell_type": "code",
   "execution_count": null,
   "metadata": {},
   "outputs": [],
   "source": [
    "\n",
    "proj_params = get_proj_params(m3_file_str)\n",
    "swath_def = SwathDefinition(lons_1km, lats_1km)\n",
    "area_def_hr = swath_def.compute_optimal_bb_area(proj_dict=proj_params)\n",
    "# area_def_hr.name = \"near ir wv retrieval modis 1 km resolution (hr=high resolution)\"\n",
    "# area_def_hr.area_id = \"wv_nearir_hr\"\n",
    "# area_def_hr.job_id = area_def_hr.area_id\n",
    "fill_value = -9999.0\n",
    "image_wv_nearir_hr = kd_tree.resample_nearest(\n",
    "    swath_def,\n",
    "    wv_nearir_scaled.ravel(),\n",
    "    area_def_hr,\n",
    "    radius_of_influence=5000,\n",
    "    nprocs=2,\n",
    "    fill_value=fill_value,\n",
    ")\n",
    "image_wv_nearir_hr[image_wv_nearir_hr < -9000] = np.nan"
   ]
  },
  {
   "cell_type": "markdown",
   "metadata": {},
   "source": [
    "### Save the mapped images\n",
    "* Now save these three images plus their area_def's for future plotting\n",
    "\n",
    "The function area_def_to_dict saves the pyresample area_def as a dict\n",
    "\n",
    "At line 20 note that\n",
    "```python\n",
    "    a=getattr(area_def,key)\n",
    "```\n",
    "where key='my_attribute'  is the same as\n",
    "```python\n",
    "    a=area_def.my_attribute\n",
    "```\n",
    "but you don't have to hard-code in 'my_attribute'"
   ]
  },
  {
   "cell_type": "code",
   "execution_count": null,
   "metadata": {},
   "outputs": [],
   "source": [
    "import json\n",
    "\n",
    "\n",
    "def area_def_to_dict(area_def):\n",
    "    \"\"\"\n",
    "    given an area_def, save it as a dictionary`\n",
    "    \n",
    "    Parameters\n",
    "    ----------\n",
    "    \n",
    "    area_def: pyresample area_def object\n",
    "         \n",
    "    Returns\n",
    "    -------\n",
    "    \n",
    "    out_dict: dict containing\n",
    "       area_def dictionary\n",
    "         \n",
    "    \"\"\"\n",
    "    keys = [\n",
    "        \"area_id\",\n",
    "        \"proj_id\",\n",
    "        \"name\",\n",
    "        \"proj_dict\",\n",
    "        \"x_size\",\n",
    "        \"y_size\",\n",
    "        \"area_extent\",\n",
    "    ]\n",
    "    area_dict = {key: getattr(area_def, key) for key in keys}\n",
    "    area_dict[\"proj_id\"] = area_dict[\"area_id\"]\n",
    "    return area_dict"
   ]
  },
  {
   "cell_type": "markdown",
   "metadata": {},
   "source": [
    "* Create a directory to hold the images and area_def dictionaries"
   ]
  },
  {
   "cell_type": "code",
   "execution_count": null,
   "metadata": {},
   "outputs": [],
   "source": [
    "map_dir = Path() / \"map_data/wv_maps\"\n",
    "map_dir.mkdir(parents=True, exist_ok=True)"
   ]
  },
  {
   "cell_type": "markdown",
   "metadata": {},
   "source": [
    "* Here's a function that writes the image plus metadata to npz and json files\n",
    "\n",
    "We'll need to use area_def_to_dict when we create the metadata_dict"
   ]
  },
  {
   "cell_type": "code",
   "execution_count": null,
   "metadata": {},
   "outputs": [],
   "source": [
    "def dump_image(image_array, metadata_dict, foldername, image_array_name=\"image\"):\n",
    "    \"\"\"\n",
    "    write an image plus mmetadata to a folder\n",
    "    \n",
    "    Parameters\n",
    "    ----------\n",
    "    \n",
    "    image_array: ndarray\n",
    "        the 2-d image to be saved\n",
    "    \n",
    "    foldername:  Path object or string\n",
    "        the path to the folder that holds the image files\n",
    "        \n",
    "    image_array_name:  str\n",
    "        the root name for the npz and json files\n",
    "        i.e. image.npz and image.json\n",
    "        \n",
    "    Returns: None\n",
    "       side effect -- an npz and a json file are written\n",
    "    \"\"\"\n",
    "    image_file = Path(foldername) / Path(image_array_name)\n",
    "    out_dict = {image_array_name: image_array}\n",
    "    np.savez(image_file, **out_dict)\n",
    "    json_name = foldername / Path(image_array_name + \".json\")\n",
    "    with open(json_name, \"w\") as f:\n",
    "        json.dump(metadata_dict, f, indent=4)\n",
    "    print(f\"\\ndumping {image_file}\\n and {json_name}\\n\")"
   ]
  },
  {
   "cell_type": "markdown",
   "metadata": {},
   "source": [
    "### Write out images, putting useful metadeta in metadata_dict\n",
    "\n",
    "We have three images:  \n",
    "\n",
    "* `wv_ir` -- 5km ir retrieval\n",
    "* `wv_nearir_hr`  -- 1 km nearir retrieval\n",
    "* `wv_nearir_lr`  -- 1 km nearir retrieval resampled to 5 km grid"
   ]
  },
  {
   "cell_type": "code",
   "execution_count": null,
   "metadata": {},
   "outputs": [],
   "source": [
    "metadata_dict = dict(modismeta=parseMeta(m5_file_str))\n",
    "map_dir.mkdir(parents=True, exist_ok=True)\n",
    "map_dir = Path() / \"map_data/wv_maps\"\n",
    "\n",
    "image_name = \"wv_ir\"\n",
    "metadata_dict[\"area_def\"] = area_def_to_dict(area_def_lr)\n",
    "metadata_dict[\"image_name\"] = image_name\n",
    "metadata_dict[\"description\"] = \"modis ir water vapor (cm) sampled at 5 km resolution\"\n",
    "metadata_dict[\"history\"] = \"written by level2_cartopy_resample.ipynb\"\n",
    "dump_image(image_wv_ir, metadata_dict, map_dir, image_name)\n",
    "\n",
    "image_name = \"wv_nearir_hr\"\n",
    "metadata_dict[\"area_def\"] = area_def_to_dict(area_def_hr)\n",
    "metadata_dict[\"image_name\"] = image_name\n",
    "metadata_dict[\n",
    "    \"description\"\n",
    "] = \"modis near ir water vapor (cm) sampled at 1 km resolution\"\n",
    "metadata_dict[\"history\"] = \"written by level2_cartopy_resample.ipynb\"\n",
    "dump_image(image_wv_nearir_hr, metadata_dict, map_dir, image_name)\n",
    "\n",
    "\n",
    "image_name = \"wv_nearir_lr\"\n",
    "metadata_dict[\"area_def\"] = area_def_to_dict(area_def_lr)\n",
    "metadata_dict[\"image_name\"] = image_name\n",
    "metadata_dict[\n",
    "    \"description\"\n",
    "] = \"modis near ir water vapor (cm) sampled at 5 km resolution\"\n",
    "metadata_dict[\"history\"] = \"written by level2_cartopy_resample.ipynb\"\n",
    "\n",
    "\n",
    "dump_image(image_wv_nearir_lr, metadata_dict, map_dir, image_name)"
   ]
  },
  {
   "cell_type": "code",
   "execution_count": null,
   "metadata": {},
   "outputs": [],
   "source": [
    "area_def_lr"
   ]
  },
  {
   "cell_type": "code",
   "execution_count": null,
   "metadata": {},
   "outputs": [],
   "source": [
    "fig, ax = plt.subplots(1,1)\n",
    "ax.imshow(image_wv_ir)"
   ]
  },
  {
   "cell_type": "code",
   "execution_count": null,
   "metadata": {},
   "outputs": [],
   "source": [
    "fig, ax = plt.subplots(1,1)\n",
    "ax.imshow(image_wv_ir)"
   ]
  },
  {
   "cell_type": "code",
   "execution_count": null,
   "metadata": {},
   "outputs": [],
   "source": [
    "area_def_hr"
   ]
  },
  {
   "cell_type": "code",
   "execution_count": null,
   "metadata": {},
   "outputs": [],
   "source": [
    "fig, ax = plt.subplots(1,1)\n",
    "ax.imshow(image_wv_nearir_lr)"
   ]
  },
  {
   "cell_type": "code",
   "execution_count": null,
   "metadata": {},
   "outputs": [],
   "source": [
    "fig, ax = plt.subplots(1,1)\n",
    "ax.imshow(image_wv_nearir_hr)"
   ]
  },
  {
   "cell_type": "markdown",
   "metadata": {},
   "source": [
    "## Assignment 5a\n",
    "\n",
    "Add cells that do the following:\n",
    "\n",
    "1) Read your MYD05 and MYD03 files and show your 1km, and 5km IR and 5 km nearir regr MYD05 water vapor images\n",
    "\n",
    "2) Regrid your Channel 32/31 brightness temperature map on the MYD05 `area_def_hr` grid.\n",
    "\n",
    "3) Draw a scatterplot showing the correlation between your 1km and 5km water vapor retrievals\n",
    "\n",
    "4) Draw a scatterplot showing the correlation between your 1km MYD05 and brightness temperature difference cells"
   ]
  }
 ],
 "metadata": {
  "jupytext": {
   "formats": "ipynb,md:myst,py:percent",
   "text_representation": {
    "extension": ".md",
    "format_name": "myst",
    "format_version": 0.12,
    "jupytext_version": "1.6.1-dev"
   }
  },
  "kernelspec": {
   "display_name": "Python 3",
   "language": "python",
   "name": "python3"
  },
  "source_map": [
   13,
   18,
   63,
   81,
   91,
   112,
   114,
   118,
   122,
   141,
   149,
   158,
   164,
   171,
   175,
   177,
   186,
   190,
   196,
   207,
   212,
   216,
   220,
   224,
   238,
   264,
   274,
   291,
   295,
   308,
   327,
   344,
   376,
   380,
   383,
   389,
   417,
   427,
   461,
   465,
   470,
   475,
   479,
   484,
   487
  ]
 },
 "nbformat": 4,
 "nbformat_minor": 4
}