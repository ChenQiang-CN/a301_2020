{
 "cells": [
  {
   "cell_type": "markdown",
   "metadata": {},
   "source": [
    "(assign2_sol)=\n",
    "# Assignment 2 - solutions\n",
    "\n",
    "Chapter 2: A23, A24, A25, A26\n",
    "Chapter 8: A2, A4"
   ]
  },
  {
   "cell_type": "code",
   "execution_count": 1,
   "metadata": {},
   "outputs": [],
   "source": [
    "import numpy as np\n",
    "import string"
   ]
  },
  {
   "cell_type": "markdown",
   "metadata": {},
   "source": [
    "## 2-A23\n",
    "\n",
    "What product of number density times absorption cross section is needed in order for 50% of the incident radiation to be absorbed by airborne volcanic ash over the following path length (km)?\n",
    "\n",
    "Given Equation 2.31a:\n",
    "\n",
    "$$\n",
    "\\begin{align}\n",
    "E_{\\text {transmitted}}&=E_{\\text {incident}} \\cdot \\mathrm{e}^{-n \\cdot b \\cdot \\Delta s}\\\\\n",
    "t &= 0.5 = \\mathrm{e}^{-n \\cdot b \\cdot \\Delta s}\n",
    "\\end{align}\n",
    "$$\n",
    "What product of number density $n$ times absorption cross section  $b$ is needed in order for 50% of the incident radiation $E_{\\text {incident}}$ to be absorbed by airborne volcanic ash over the following path length (km)?\n",
    "\n",
    "(Note how I use the zip function to zip together 3 lists, then unzip them in the for loop\n",
    "one at a time)"
   ]
  },
  {
   "cell_type": "code",
   "execution_count": 2,
   "metadata": {},
   "outputs": [
    {
     "name": "stdout",
     "output_type": "stream",
     "text": [
      "a) delta_s=0.2 km, --- nxb=3.466 km^-1\n",
      "b) delta_s=0.4 km, --- nxb=1.733 km^-1\n",
      "c) delta_s=0.6 km, --- nxb=1.155 km^-1\n",
      "d) delta_s=0.8 km, --- nxb=0.866 km^-1\n",
      "e) delta_s=1.0 km, --- nxb=0.693 km^-1\n",
      "f) delta_s=1.5 km, --- nxb=0.462 km^-1\n",
      "g) delta_s=2.0 km, --- nxb=0.347 km^-1\n",
      "h) delta_s=2.5 km, --- nxb=0.277 km^-1\n",
      "i) delta_s=3.0 km, --- nxb=0.231 km^-1\n",
      "j) delta_s=3.5 km, --- nxb=0.198 km^-1\n",
      "k) delta_s=4.0 km, --- nxb=0.173 km^-1\n",
      "l) delta_s=4.5 km, --- nxb=0.154 km^-1\n",
      "m) delta_s=5.0 km, --- nxb=0.139 km^-1\n",
      "n) delta_s=7.0 km, --- nxb=0.099 km^-1\n"
     ]
    }
   ],
   "source": [
    "# path length in km\n",
    "# 14 values\n",
    "delta_s = (0.2,0.4,0.6,0.8,1.0,1.5,2.0,\n",
    "           2.5,3.0,3.5,4.0,4.5,5.0,7.0)\n",
    "letters = string.ascii_lowercase[:len(delta_s)]\n",
    "# unpack the product of n x b\n",
    "#\n",
    "n_b= []\n",
    "\n",
    "for the_delta in delta_s:\n",
    "    the_prod = -np.log(0.5)/the_delta\n",
    "    n_b.append(the_prod)\n",
    "    \n",
    "the_answer = zip(letters,delta_s,n_b)\n",
    "for the_letter, the_delta, the_val in the_answer:\n",
    "    print(f\"{the_letter}) delta_s={the_delta} km,\"\n",
    "          f\" --- nxb={the_val:5.3f} km^-1\")"
   ]
  },
  {
   "cell_type": "markdown",
   "metadata": {},
   "source": [
    "## 2-A24 \n",
    "\n",
    "Given optical depth $\\tau$ in the equation 2.31c\n",
    "\n",
    "\\$$E_{\\text {transmitted}}=E_{\\text {incident}} \\cdot \\mathrm{e}^{-\\tau}$$\n",
    "\n",
    "What fraction of incident radiation is transmitted through a volcanic ash cloud of optical depth:"
   ]
  },
  {
   "cell_type": "code",
   "execution_count": 3,
   "metadata": {},
   "outputs": [
    {
     "name": "stdout",
     "output_type": "stream",
     "text": [
      "a) tau=0.2, --- transmissivity=0.819\n",
      "b) tau=0.5, --- transmissivity=0.607\n",
      "c) tau=0.7, --- transmissivity=0.497\n",
      "d) tau=1.0, --- transmissivity=0.368\n",
      "e) tau=1.5, --- transmissivity=0.223\n",
      "f) tau=3.0, --- transmissivity=0.050\n",
      "g) tau=4.0, --- transmissivity=0.018\n",
      "h) tau=5.0, --- transmissivity=0.007\n",
      "i) tau=6.0, --- transmissivity=0.002\n",
      "j) tau=7.0, --- transmissivity=0.001\n",
      "k) tau=10.0, --- transmissivity=0.000\n",
      "l) tau=15.0, --- transmissivity=0.000\n",
      "m) tau=20.0, --- transmissivity=0.000\n"
     ]
    }
   ],
   "source": [
    "tau =(0.2,0.5,0.7,1.0,1.5,3.0,\n",
    "      4.0,5.0,6.0,7.0,10.0,15.0,20.0)\n",
    "letters = string.ascii_lowercase[:len(tau)]\n",
    "frac_list=[]\n",
    "for the_tau in tau:\n",
    "    the_frac = np.exp(-the_tau)\n",
    "    frac_list.append(the_frac)\n",
    "the_answer = zip(letters,tau,frac_list)\n",
    "for the_letter, the_tau, the_frac in the_answer:\n",
    "    print(f\"{the_letter}) tau={the_tau},\"\n",
    "          f\" --- transmissivity={the_frac:5.3f}\")"
   ]
  },
  {
   "cell_type": "markdown",
   "metadata": {},
   "source": [
    "## 2-A25 \n",
    "\n",
    "given $\\gamma = n \\cdot b = k \\cdot \\rho$\n",
    "\n",
    "Find the visial range $\\Delta s$ such that the tranmissivity = \n",
    "\n",
    "\n",
    "$$\n",
    "\\begin{align}\n",
    "t &= 0.02 = \\exp ( -\\gamma \\cdot \\Delta s) \\\\\n",
    "\\Delta s &= -\\log(0.02)/\\gamma\\ (meters)\n",
    "\\end{align}\n",
    "$$"
   ]
  },
  {
   "cell_type": "code",
   "execution_count": 4,
   "metadata": {},
   "outputs": [
    {
     "name": "stdout",
     "output_type": "stream",
     "text": [
      "a) gamma =0.01 km^-1, --- Delta s=391.202 km\n",
      "b) gamma =0.02 km^-1, --- Delta s=195.601 km\n",
      "c) gamma =0.05 km^-1, --- Delta s=78.240 km\n",
      "d) gamma =0.1 km^-1, --- Delta s=39.120 km\n",
      "e) gamma =0.2 km^-1, --- Delta s=19.560 km\n",
      "f) gamma =0.5 km^-1, --- Delta s=7.824 km\n",
      "g) gamma =1.0 km^-1, --- Delta s=3.912 km\n",
      "h) gamma =2.0 km^-1, --- Delta s=1.956 km\n",
      "i) gamma =5.0 km^-1, --- Delta s=0.782 km\n",
      "j) gamma =10.0 km^-1, --- Delta s=0.391 km\n",
      "k) gamma =20.0 km^-1, --- Delta s=0.196 km\n",
      "l) gamma =50.0 km^-1, --- Delta s=0.078 km\n"
     ]
    }
   ],
   "source": [
    "gamma = (0.00001,0.00002,0.00005,0.0001,\n",
    "         0.0002,0.0005,0.001,0.002,0.005,\n",
    "         0.01,0.02,0.05)\n",
    "gamma_km = np.array(gamma)*1.e3  #km^{-1}\n",
    "letters = string.ascii_lowercase[:len(gamma_km)]\n",
    "delta_list= []\n",
    "\n",
    "for the_gamma in gamma_km:\n",
    "    delta_s = -np.log(0.02)/the_gamma\n",
    "    delta_list.append(delta_s)\n",
    "the_answer = zip(letters,gamma_km,delta_list)\n",
    "for the_letter, the_gamma, delta_s in the_answer:\n",
    "    print(f\"{the_letter}) gamma ={the_gamma} km^{-1},\"\n",
    "          f\" --- Delta s={delta_s:5.3f} km\")"
   ]
  },
  {
   "cell_type": "markdown",
   "metadata": {},
   "source": [
    "## 2-A26 \n",
    "\n",
    "(i) What is the value of solar downward direct radiative flux reaching the surface at the city from exercise A5 at noon on 4 July, given 20% coverage of cumulus (low) clouds."
   ]
  },
  {
   "cell_type": "markdown",
   "metadata": {},
   "source": [
    "Eq. 2.5\n",
    "\n",
    "$$\n",
    "\\delta_{S} \\approx \\Phi_{r} \\cdot \\cos \\left[\\frac{C \\cdot\\left(d-d_{r}\\right)}{d_{y}}\\right]\n",
    "$$\n",
    "\n",
    "\n",
    "Eq. 2.6:\n",
    "\n",
    "\n",
    "$$\n",
    "\\begin{aligned}\n",
    "\\sin (\\Psi)=& \\sin (\\phi) \\cdot \\sin \\left(\\delta_{S}\\right)-\\\\\n",
    "& \\cos (\\phi) \\cdot \\cos \\left(\\delta_{S}\\right) \\cdot \\cos \\left[\\frac{C \\cdot t_{U T C}}{t_{d}}+\\lambda_{e}\\right]\n",
    "\\end{aligned}\n",
    "$$"
   ]
  },
  {
   "cell_type": "markdown",
   "metadata": {},
   "source": [
    "## Timezones/leap years/daylight savings time make dates/times complicated\n",
    "\n",
    "For example, look at [this headache for daylight savings time folding](https://www.python.org/dev/peps/pep-0495/)\n",
    "I would use the [arrow package](https://github.com/arrow-py/arrow) for real work"
   ]
  },
  {
   "cell_type": "code",
   "execution_count": 5,
   "metadata": {},
   "outputs": [],
   "source": [
    "import datetime as dt\n",
    "from math import asin,sin,cos,pi\n",
    "import numpy as np\n",
    "try:\n",
    "    #\n",
    "    # use the ephem package to find exact summer solstice\n",
    "    #\n",
    "    import ephem\n",
    "except ModuleNotFoundError:\n",
    "    pass\n",
    "        \n",
    "\n",
    "deg2rad=pi/180.\n",
    "rad2deg=1./deg2rad\n",
    "\n",
    "def find_deltas(the_date):\n",
    "    \"\"\"given a python datetime object (UTC)\n",
    "       find the solar declination angle in degrees\n",
    "       using Stull equation 2.5\n",
    "\n",
    "       Parameters\n",
    "       ----------\n",
    "       \n",
    "       the_date: datetime object with UTC timezone\n",
    "       \n",
    "       Returns\n",
    "       -------\n",
    "       \n",
    "       deltas:  solar declination angle in degrees\n",
    "    \"\"\"\n",
    "    the_year=the_date.year\n",
    "    #\n",
    "    # find the length of the year (leap or regular) in days by subtracting\n",
    "    # two datetimes exactly 1 year apart -- jan 1, 0 hours, 0 minutes, 0 seconds\n",
    "    # \n",
    "    year_start=dt.datetime(the_year,1,1,0,0,0,tzinfo=dt.timezone.utc)\n",
    "    year_end=dt.datetime(the_year+1,1,1,0,0,0,tzinfo=dt.timezone.utc)\n",
    "    year_length=(year_end - year_start).days\n",
    "    print(f\"this year has {year_length:6.3f} days\")\n",
    "    phir=23.44 #axis tilt in degrees from stull\n",
    "    #\n",
    "    # run the following if you have the ephem package\n",
    "    # to get the exact solstice.  Make sure you get the\n",
    "    # summer solstice by specifying solstice after May 31\n",
    "    #\n",
    "    try:\n",
    "        approx_solstice = dt.datetime(2020,5,31)\n",
    "        solstice=ephem.next_solstice(approx_solstice).datetime()\n",
    "        solstice = solstice.astimezone(dt.timezone.utc)\n",
    "    except:     \n",
    "    #\n",
    "    # otherwise use june 21\n",
    "    #\n",
    "        solstice = dt.datetime(2020,6,21,0,0,0,tzinfo=dt.timezone.utc)\n",
    "    #number of days since the new year\n",
    "    the_day=(the_date - year_start).days\n",
    "    jan1=dt.datetime(the_date.year,1,1,0,0,0,tzinfo=dt.timezone.utc)\n",
    "    solstice_day=(solstice - jan1).days\n",
    "    #print('solstice has {} days'.format(solstice_day))\n",
    "    fraction=(the_day - solstice_day)/year_length\n",
    "    deltas=phir*cos(2*pi*fraction)\n",
    "    return deltas"
   ]
  },
  {
   "cell_type": "code",
   "execution_count": 6,
   "metadata": {},
   "outputs": [],
   "source": [
    "def find_elevation(the_date,the_lat,the_lon):\n",
    "    \"\"\"find the solar elevation for a location in degrees \n",
    "       datetime object with a UTC timezone representing\n",
    "       local time, using Stull eqn. 2.6\n",
    "\n",
    "       Parameters\n",
    "       ----------\n",
    "       the_date: datetime object\n",
    "           time in UTC\n",
    "       the_lat: float\n",
    "           degrees North\n",
    "       the_lon: float\n",
    "           degrees East\n",
    "           \n",
    "       Returns\n",
    "       -------\n",
    "       \n",
    "       elevation: float\n",
    "          solar elevation in degrees\n",
    "    \"\"\"\n",
    "    deltas=find_deltas(the_date)\n",
    "    deltas=deltas*deg2rad\n",
    "    phi= the_lat*deg2rad # latitude deg N\n",
    "    lambda_e = the_lon*deg2rad #longitude, deg E\n",
    "    #\n",
    "    #  turn minutes into fractions of an hour\n",
    "    #\n",
    "    t_utc=the_date.hour + the_date.minute/60.\n",
    "    print(f\"the longitude: {the_lon:5.2f} deg E, hour in utc {t_utc}\")\n",
    "    #stull eqn 2.6\n",
    "    sin_psi=sin(phi)*sin(deltas) - cos(phi)*cos(deltas)*cos(2*pi*t_utc/24. + lambda_e)\n",
    "    elevation=asin(sin_psi)*rad2deg\n",
    "    #write 0 if under the horizon\n",
    "    if elevation < 0:\n",
    "        elevation=0.\n",
    "    return elevation"
   ]
  },
  {
   "cell_type": "markdown",
   "metadata": {},
   "source": [
    "Start accumulating results in a dictionary for each part of A26.  We will key on the city\n",
    "and each city will have its own dictionary."
   ]
  },
  {
   "cell_type": "code",
   "execution_count": 7,
   "metadata": {},
   "outputs": [
    {
     "name": "stdout",
     "output_type": "stream",
     "text": [
      "\n",
      "Vancouver\n",
      "\n",
      "this year has 366.000 days\n",
      "the longitude: -123.12 deg E, hour in utc 20.0\n",
      "lat 49.28 deg N, solar elev 64.04 deg\n",
      "\n",
      "Reading\n",
      "\n",
      "this year has 366.000 days\n",
      "the longitude: -0.98 deg E, hour in utc 12.0\n",
      "lat 51.45 deg N, solar elev 61.98 deg\n",
      "\n",
      "Norman\n",
      "\n",
      "this year has 366.000 days\n",
      "the longitude: -97.44 deg E, hour in utc 18.0\n",
      "lat 35.22 deg N, solar elev 76.56 deg\n",
      "\n",
      "{'Vancouver': {'elevation': 64.04088569479521}, 'Reading': {'elevation': 61.97553990339406}, 'Norman': {'elevation': 76.56157270885073}}\n",
      "\n"
     ]
    }
   ],
   "source": [
    "#\n",
    "# these time offsets are all standard time\n",
    "# credit:  Marjolein Ribberink\n",
    "#\n",
    "coords={\n",
    "    \"Seattle\":(47.6062, -122.3321,-8),\n",
    "    \"Corvallis\":(44.5646, -123.2620,-8),\n",
    "    \"Boulder\":(40.0150, -105.2705,-7),\n",
    "    \"Norman\":(35.2226, -97.4395,-6),\n",
    "    \"Madison\":(43.0731, -89.4012,-6),\n",
    "    \"Toronto\":(43.6532, -79.3832,-5),\n",
    "    \"Montreal\":(45.5017, -73.5673,-5),\n",
    "    \"Boston\":(42.3601, -71.0589,-5),\n",
    "    \"NYC\":(40.7128, -74.0060,-5),\n",
    "    \"University Park\":(40.8148, -77.8653,-5),\n",
    "    \"Princeton\":(40.3431, -74.6551,-5),\n",
    "    \"Washington DC\":(38.9072, -77.0369,-5),\n",
    "    \"Raleigh\":(35.7796, -78.6382,-5),\n",
    "    \"Tallahassee\":(30.4383, -84.2807,-5),\n",
    "    \"Reading\":(51.4543, -0.9781,0),\n",
    "    \"Toulouse\":(43.6047, 1.4442,1),\n",
    "    \"Munchen\":(48.1351, 11.5820,1),\n",
    "    \"Bergen\":(60.3913, 5.3221,1),\n",
    "    \"Uppsala\":(59.8586, 17.6389,1),\n",
    "    \"DeBilt\":(52.1093, 5.1810,1),\n",
    "    \"Paris\":(48.8566, 2.3522,1),\n",
    "    \"Tokyo\":(35.6804, 139.7690,8),\n",
    "    \"Beijing\":(39.9042, 116.4074,7),\n",
    "    \"Warsaw\":(52.2297, 21.0122,1),\n",
    "    \"Madrid\":(40.4168, 3.7038,1),\n",
    "    \"Melbourne\":(-37.8136, 144.9631,10),\n",
    "    \"Vancouver\":(49.2827, -123.1207,-8)\n",
    "}\n",
    "\n",
    "city_list = ['Vancouver','Reading','Norman']\n",
    "results=dict()\n",
    "for the_city in city_list:\n",
    "    print(f\"\\n{the_city}\\n\")\n",
    "    geocoords = coords[the_city]\n",
    "    the_lat, the_lon, tz_offset = geocoords\n",
    "    hour = 12 - tz_offset\n",
    "    the_date = dt.datetime(2020,6,21,hour,0,0,tzinfo=dt.timezone.utc)\n",
    "    elev=find_elevation(the_date,the_lat,the_lon)\n",
    "    print(f\"lat {the_lat:5.2f} deg N, solar elev {elev:5.2f} deg\")\n",
    "    results[the_city]={'elevation':elev}\n",
    "print(f\"\\n{results}\\n\")"
   ]
  },
  {
   "cell_type": "markdown",
   "metadata": {},
   "source": [
    "### 2-A26a \n",
    "\n",
    "find the flux at the surface given Stull 2.35\n",
    "\n",
    "$$\n",
    "T_{r}=(0.6+0.2 \\sin \\Psi)\\left(1-0.4 \\sigma_{H}\\right)\\left(1-0.7 \\sigma_{M}\\right)\\left(1-0.4 \\sigma_{L}\\right)\n",
    "$$\n",
    "\n",
    "with $\\sigma_L=0.2$"
   ]
  },
  {
   "cell_type": "code",
   "execution_count": 8,
   "metadata": {},
   "outputs": [],
   "source": [
    "def find_Tr(elevation,sigma_h,sigma_m,sigma_l):\n",
    "    \"\"\"\n",
    "    given a solar elevation and cloud fractions for 3 layers\n",
    "    find the effective solar flux transmission\n",
    "    \n",
    "    Parameters\n",
    "    ----------\n",
    "    \n",
    "    elevation: float\n",
    "       solar elevation in degrees\n",
    "    sigma_h, sigma_m,sigma_l: floats\n",
    "       high, middle and low cloud fractions, 0 to 1\n",
    "       \n",
    "    Returns\n",
    "    -------\n",
    "    Tr: float\n",
    "       the diffuse and direct flux transmission, 0 to 1\n",
    "    \"\"\"\n",
    "    import numpy as np\n",
    "    deg2rad = np.pi/180.\n",
    "    elevation = elevation*deg2rad\n",
    "    S0 = 1361\n",
    "    Tr = (0.6 + 0.2*np.sin(elevation))*(1-0.4*sigma_h)*(1-0.7*sigma_m)*(1-0.4*sigma_l)\n",
    "    print(f\"cos(theta) factor is {np.sin(elevation):5.2f}\")\n",
    "    return Tr"
   ]
  },
  {
   "cell_type": "code",
   "execution_count": 9,
   "metadata": {},
   "outputs": [
    {
     "name": "stdout",
     "output_type": "stream",
     "text": [
      "\n",
      "Vancouver\n",
      "\n",
      "this year has 366.000 days\n",
      "the longitude: -123.12 deg E, hour in utc 20.0\n",
      "cos(theta) factor is  0.90\n",
      "high, middle, low cloud fractions: (0, 0, 0.2)\n",
      "the diffuse/direct transmissin is 0.717\n",
      "downward flux at the surface is -976.43 W/m^2\n",
      "\n",
      "Reading\n",
      "\n",
      "this year has 366.000 days\n",
      "the longitude: -0.98 deg E, hour in utc 12.0\n",
      "cos(theta) factor is  0.88\n",
      "high, middle, low cloud fractions: (0, 0, 0.2)\n",
      "the diffuse/direct transmissin is 0.714\n",
      "downward flux at the surface is -972.33 W/m^2\n",
      "\n",
      "Norman\n",
      "\n",
      "this year has 366.000 days\n",
      "the longitude: -97.44 deg E, hour in utc 18.0\n",
      "cos(theta) factor is  0.97\n",
      "high, middle, low cloud fractions: (0, 0, 0.2)\n",
      "the diffuse/direct transmissin is 0.731\n",
      "downward flux at the surface is -994.84 W/m^2\n",
      "\n",
      "{'Vancouver': {'elevation': 64.04088569479521, 'downward_flux': -976.4298798875168, 'high_med_low': (0, 0, 0.2)}, 'Reading': {'elevation': 61.97553990339406, 'downward_flux': -972.3330574330802, 'high_med_low': (0, 0, 0.2)}, 'Norman': {'elevation': 76.56157270885073, 'downward_flux': -994.839448506152, 'high_med_low': (0, 0, 0.2)}}\n",
      "\n"
     ]
    }
   ],
   "source": [
    "for the_city, results_dict in results.items():\n",
    "    print(f\"\\n{the_city}\\n\")\n",
    "    geocoords = coords[the_city]\n",
    "    the_lat, the_lon, tz_offset = geocoords\n",
    "    hour = 12 - tz_offset\n",
    "    the_date = dt.datetime(2020,6,21,hour,0,0,tzinfo=dt.timezone.utc)\n",
    "    elev=find_elevation(the_date,the_lat,the_lon)\n",
    "    sigma_h, sigma_m, sigma_l = 0, 0, 0.2\n",
    "    Tr = find_Tr(elev,sigma_h,sigma_m,sigma_l)\n",
    "    S0= -1361 #W/m^2\n",
    "    downward_flux = S0*Tr\n",
    "    print(f\"high, middle, low cloud fractions: {sigma_h,sigma_m,sigma_l}\")\n",
    "    print(f\"the diffuse/direct transmissin is {Tr:5.3f}\")\n",
    "    print(f\"downward flux at the surface is {downward_flux:5.2f} W/m^2\" )\n",
    "    results[the_city]['downward_flux'] = downward_flux\n",
    "    results[the_city]['high_med_low'] = (sigma_h,sigma_m,sigma_l)\n",
    "print(f\"\\n{results}\\n\")"
   ]
  },
  {
   "cell_type": "markdown",
   "metadata": {},
   "source": [
    "## 2-A26b\n",
    "\n",
    "If the albedo is 0.5 in your town, what is the reflected solar flux at that same time\n",
    "\n",
    "Stull 2.36\n",
    "$$K_{\\uparrow} = -A \\cdot K_{\\downarrow}$$"
   ]
  },
  {
   "cell_type": "code",
   "execution_count": 10,
   "metadata": {},
   "outputs": [
    {
     "name": "stdout",
     "output_type": "stream",
     "text": [
      "Vancouver: 488.21 W/m^2\n",
      "Reading: 486.17 W/m^2\n",
      "Norman: 497.42 W/m^2\n",
      "\n",
      "{'Vancouver': {'elevation': 64.04088569479521, 'downward_flux': -976.4298798875168, 'high_med_low': (0, 0, 0.2), 'upward_sw': 488.2149399437584, 'albedo': 0.5}, 'Reading': {'elevation': 61.97553990339406, 'downward_flux': -972.3330574330802, 'high_med_low': (0, 0, 0.2), 'upward_sw': 486.1665287165401, 'albedo': 0.5}, 'Norman': {'elevation': 76.56157270885073, 'downward_flux': -994.839448506152, 'high_med_low': (0, 0, 0.2), 'upward_sw': 497.419724253076, 'albedo': 0.5}}\n",
      "\n"
     ]
    }
   ],
   "source": [
    "for the_city, results_dict in results.items():\n",
    "    flux = results_dict['downward_flux']\n",
    "    albedo = 0.5\n",
    "    upward_flux = -albedo*flux\n",
    "    print(f\"{the_city}: {upward_flux:5.2f} W/m^2\")\n",
    "    results[the_city]['upward_sw'] = upward_flux\n",
    "    results[the_city]['albedo'] = albedo\n",
    "print(f\"\\n{results}\\n\")"
   ]
  },
  {
   "cell_type": "markdown",
   "metadata": {},
   "source": [
    "### 2-A26c\n",
    "\n",
    "What is the approx net longwave flux at the surface, according to Stull 2.39?\n",
    "\n",
    "$$I^{*}=b \\cdot\\left(1-0.1 \\sigma_{H}-0.3 \\sigma_{M}-0.6 \\sigma_{L}\\right)$$"
   ]
  },
  {
   "cell_type": "code",
   "execution_count": 11,
   "metadata": {},
   "outputs": [
    {
     "name": "stdout",
     "output_type": "stream",
     "text": [
      "Vancouver: 86.68 W/m^2\n",
      "Reading: 86.68 W/m^2\n",
      "Norman: 86.68 W/m^2\n",
      "\n",
      "{'Vancouver': {'elevation': 64.04088569479521, 'downward_flux': -976.4298798875168, 'high_med_low': (0, 0, 0.2), 'upward_sw': 488.2149399437584, 'albedo': 0.5, 'Istar': 86.68}, 'Reading': {'elevation': 61.97553990339406, 'downward_flux': -972.3330574330802, 'high_med_low': (0, 0, 0.2), 'upward_sw': 486.1665287165401, 'albedo': 0.5, 'Istar': 86.68}, 'Norman': {'elevation': 76.56157270885073, 'downward_flux': -994.839448506152, 'high_med_low': (0, 0, 0.2), 'upward_sw': 497.419724253076, 'albedo': 0.5, 'Istar': 86.68}}\n",
      "\n"
     ]
    }
   ],
   "source": [
    "b = 98.5  #W/m^2\n",
    "for the_city,results_dict in results.items():\n",
    "    sigma_h, sigma_m, sigma_l = results_dict['high_med_low']\n",
    "    Istar = b*(1 - 0.1*sigma_h -0.3*sigma_m - 0.6*sigma_l)\n",
    "    results[the_city]['Istar']=Istar\n",
    "    print(f\"{the_city}: {Istar:5.2f} W/m^2\")\n",
    "print(f\"\\n{results}\\n\")"
   ]
  },
  {
   "cell_type": "markdown",
   "metadata": {},
   "source": [
    "### 2-A26d\n",
    "\n",
    "What is the net surface radiation according to Stull 2.40a\n",
    "\n",
    "$$\\mathbb{F}^{*}=-(1-A) \\cdot S \\cdot T_{r} \\cdot \\sin (\\Psi)+I^{*}$$\n",
    "\n",
    "Note that in the loop below I can add things to `results_dict`, and the changes \"stick\"\n",
    "i.e. the for loop is giving me a reference to the original `results_dict`\n",
    "not a copy"
   ]
  },
  {
   "cell_type": "code",
   "execution_count": 12,
   "metadata": {},
   "outputs": [
    {
     "name": "stdout",
     "output_type": "stream",
     "text": [
      "Vancouver: 574.89 W/m^2\n",
      "Reading: 572.85 W/m^2\n",
      "Norman: 584.10 W/m^2\n",
      "\n",
      "{'Vancouver': {'elevation': 64.04088569479521, 'downward_flux': -976.4298798875168, 'high_med_low': (0, 0, 0.2), 'upward_sw': 488.2149399437584, 'albedo': 0.5, 'Istar': 86.68, 'net_sfc_flux': 574.8949399437583}, 'Reading': {'elevation': 61.97553990339406, 'downward_flux': -972.3330574330802, 'high_med_low': (0, 0, 0.2), 'upward_sw': 486.1665287165401, 'albedo': 0.5, 'Istar': 86.68, 'net_sfc_flux': 572.8465287165401}, 'Norman': {'elevation': 76.56157270885073, 'downward_flux': -994.839448506152, 'high_med_low': (0, 0, 0.2), 'upward_sw': 497.419724253076, 'albedo': 0.5, 'Istar': 86.68, 'net_sfc_flux': 584.099724253076}}\n",
      "\n"
     ]
    }
   ],
   "source": [
    "for the_city, results_dict in results.items():\n",
    "    A = results_dict['albedo']\n",
    "    downward_flux = results_dict['downward_flux']\n",
    "    Istar = results_dict['Istar']\n",
    "    net_sfc_flux = -(1 - A)*downward_flux + Istar\n",
    "    print(f\"{the_city}: {net_sfc_flux:5.2f} W/m^2\")\n",
    "    results_dict['net_sfc_flux'] = net_sfc_flux\n",
    "print(f\"\\n{results}\\n\")\n",
    "    "
   ]
  },
  {
   "cell_type": "markdown",
   "metadata": {},
   "source": [
    "### 8-A2 \n",
    "\n",
    "Find the blackbody radiance for the following sets of wavelength, temperature"
   ]
  },
  {
   "cell_type": "code",
   "execution_count": 13,
   "metadata": {},
   "outputs": [],
   "source": [
    "from scipy.constants import c, h, k\n",
    "#\n",
    "# get Stull's c_1 and c_2 from fundamental constants\n",
    "#\n",
    "# c=2.99792458e+08  #m/s -- speed of light in vacuum\n",
    "# h=6.62606876e-34  #J s  -- Planck's constant\n",
    "# k=1.3806503e-23  # J/K  -- Boltzman's constant\n",
    "\n",
    "c1 = 2. * h * c**2.\n",
    "c2 = h * c / k\n",
    "sigma = 2. * np.pi**5. * k**4. / (15 * h**3. * c**2.)\n",
    "\n",
    "def calc_radiance(wavel, Temp):\n",
    "    \"\"\"\n",
    "    Calculate the blackbody radiance\n",
    "    \n",
    "    Parameters\n",
    "    ----------\n",
    "\n",
    "      wavel: float or array\n",
    "           wavelength (meters)\n",
    "\n",
    "      Temp: float\n",
    "           temperature (K)\n",
    "\n",
    "    Returns\n",
    "    -------\n",
    "\n",
    "    Llambda:  float or arr\n",
    "           monochromatic radiance (W/m^2/m/sr)\n",
    "    \"\"\"\n",
    "    Llambda_val = c1 / (wavel**5. * (np.exp(c2 / (wavel * Temp)) - 1))\n",
    "    return Llambda_val\n",
    "\n",
    "def planck_invert(wavel, Lstar):\n",
    "    \"\"\"\n",
    "    Calculate the brightness temperature\n",
    "    \n",
    "    Parameters\n",
    "    ----------\n",
    "\n",
    "      wavel: float\n",
    "           wavelength (meters)\n",
    "\n",
    "      Lstar: float or array\n",
    "           Blackbody radiance (W/m^2/m/sr)\n",
    "    Returns\n",
    "    -------\n",
    "\n",
    "    Tbright:  float or arr\n",
    "           brightness temperature (K)\n",
    "    \"\"\"\n",
    "    Tbright = c2 / (wavel * np.log(c1 / (wavel**5. * Lstar) + 1.))\n",
    "    return Tbright"
   ]
  },
  {
   "cell_type": "code",
   "execution_count": 14,
   "metadata": {},
   "outputs": [
    {
     "name": "stdout",
     "output_type": "stream",
     "text": [
      "a) Tk=213.15 K, Lbb= 1.78 W/m^2/sr/micron\n",
      "b) Tk=213.15 K, Lbb= 1.79 W/m^2/sr/micron\n",
      "c) Tk=243.15 K, Lbb= 3.28 W/m^2/sr/micron\n",
      "d) Tk=273.15 K, Lbb= 5.39 W/m^2/sr/micron\n",
      "e) Tk=278.15 K, Lbb= 5.93 W/m^2/sr/micron\n",
      "f) Tk=288.15 K, Lbb= 7.21 W/m^2/sr/micron\n",
      "g) Tk=298.15 K, Lbb= 8.74 W/m^2/sr/micron\n",
      "h) Tk=268.15 K, Lbb= 5.67 W/m^2/sr/micron\n",
      "i) Tk=258.15 K, Lbb= 4.45 W/m^2/sr/micron\n"
     ]
    }
   ],
   "source": [
    "probset={\n",
    "    \"a\":{'wavelen':14.7,'Tc':-60},\n",
    "    \"b\":{'wavelen':14.4,'Tc':-60},\n",
    "    \"c\":{'wavelen':14.0,'Tc':-30},\n",
    "    \"d\":{'wavelen':13.7,'Tc':0},\n",
    "    \"e\":{'wavelen':13.4,'Tc':5},\n",
    "    \"f\":{'wavelen':12.7,'Tc':15},\n",
    "    \"g\":{'wavelen':12.0,'Tc':25},\n",
    "    \"h\":{'wavelen':11.0,'Tc':-5},\n",
    "    \"i\":{'wavelen':9.7,'Tc':-15}\n",
    "}\n",
    "\n",
    "for letter, prob_vals in probset.items():\n",
    "    Tk = prob_vals['Tc'] + 273.15\n",
    "    wavelen = prob_vals['wavelen']*1.e-6\n",
    "    Lbb = calc_radiance(wavelen,Tk)\n",
    "    print(f\"{letter}) Tk={Tk:5.2f} K, Lbb={Lbb*1.e-6:5.2f} W/m^2/sr/micron\")\n",
    "     \n",
    "    "
   ]
  },
  {
   "cell_type": "markdown",
   "metadata": {},
   "source": [
    "### 8-A4 \n",
    "\n",
    "Find the brightness temperature for the following wavelengths given a radiance of $10^{-15}$ W/m^2/sr/micron."
   ]
  },
  {
   "cell_type": "code",
   "execution_count": 15,
   "metadata": {},
   "outputs": [
    {
     "name": "stdout",
     "output_type": "stream",
     "text": [
      "a) Wavelength =  0.60 microns, Tbright = 430.60 K\n",
      "b) Wavelength =  3.80 microns, Tbright = 81.50 K\n",
      "c) Wavelength =  4.00 microns, Tbright = 77.85 K\n",
      "d) Wavelength =  4.10 microns, Tbright = 76.16 K\n",
      "e) Wavelength =  4.40 microns, Tbright = 71.51 K\n",
      "f) Wavelength =  4.50 microns, Tbright = 70.09 K\n",
      "g) Wavelength =  4.60 microns, Tbright = 68.74 K\n",
      "h) Wavelength =  6.50 microns, Tbright = 50.57 K\n",
      "i) Wavelength =  7.00 microns, Tbright = 47.35 K\n",
      "j) Wavelength =  7.50 microns, Tbright = 44.55 K\n"
     ]
    }
   ],
   "source": [
    "wavelen = (0.6,3.8,4.0,4.1,4.4,4.5,4.6,6.5,7.0,7.5)\n",
    "letters = string.ascii_lowercase[:len(wavelen)]\n",
    "\n",
    "Lstar=(10**(-15))*1.e6  #W/m^2/sr/micron\n",
    "\n",
    "for letter,wavel in zip(letters,wavelen):\n",
    "    wavel_meters=wavel*1.e-6\n",
    "    Tbright = planck_invert(wavel_meters,Lstar)\n",
    "    print(f\"{letter}) Wavelength = {wavel:5.2f} microns, Tbright = {Tbright:5.2f} K\")\n",
    "    "
   ]
  }
 ],
 "metadata": {
  "jupytext": {
   "notebook_metadata_filter": "all,-language_info,-toc,-latex_envs",
   "text_representation": {
    "extension": ".md",
    "format_name": "myst",
    "format_version": 0.12,
    "jupytext_version": "1.6.0"
   }
  },
  "kernelspec": {
   "display_name": "Python 3",
   "language": "python",
   "name": "python3"
  },
  "language_info": {
   "codemirror_mode": {
    "name": "ipython",
    "version": 3
   },
   "file_extension": ".py",
   "mimetype": "text/x-python",
   "name": "python",
   "nbconvert_exporter": "python",
   "pygments_lexer": "ipython3",
   "version": "3.8.6"
  },
  "source_map": [
   13,
   20,
   23,
   42,
   60,
   70,
   82,
   98,
   113,
   119,
   138,
   145,
   210,
   247,
   252,
   299,
   311,
   339,
   357,
   366,
   375,
   383,
   391,
   403,
   413,
   419,
   476,
   496,
   502
  ]
 },
 "nbformat": 4,
 "nbformat_minor": 4
}