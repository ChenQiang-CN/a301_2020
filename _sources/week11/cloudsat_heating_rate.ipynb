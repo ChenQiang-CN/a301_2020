{
 "cells": [
  {
   "cell_type": "markdown",
   "metadata": {},
   "source": [
    "# Introduction\n",
    "\n",
    "This notebook plots the shortwave and longwave heating rates for a storm\n",
    "using the [FLXHR](http://www.cloudsat.cira.colostate.edu/data-products/level-2b/2b-flxhr?term=31) product (which was not one of the 5 you were asked to download for your orbit).  As described in the [product description](http://www.cloudsat.cira.colostate.edu/sites/default/files/products/files/2B-FLXHR_PDICD.P2_R04.20071008.pdf), it combines radar and lidar measurements with a two-stream radiative transfer model to calculate the upward and downward long and shortwave fluxes\n",
    "as a function of height.\n",
    "\n",
    "## Caliop/Calipso\n",
    "\n",
    "The [caliop lidar](https://www-calipso.larc.nasa.gov/) is an instrument on Calipso, which\n",
    "is the satellite trailing directly behind cloudsat in the [afternoon constellation](https://atrain.nasa.gov/) (aka the \"A-train\").  It is designed to measure thin cirrus clouds and the aerosols between clouds, using laser pulses at 0.532 $\\mu m$ (dual polarization) and 1.064 $\\mu m$.  These \"sub-visible\" cirrus clouds don't precipitate, but they absorb radiation from the surface and emit relatively little to space (because they are so cold), so they're very important to the radiation budget.  If you're interested, [this article](https://www-calipso.larc.nasa.gov/resources/pdfs/Winker_etal_InitialCALIOP_2007GRL.pdf) has more detail on the mission."
   ]
  },
  {
   "cell_type": "markdown",
   "metadata": {},
   "source": [
    "#  Read in the height and reflectivity fields"
   ]
  },
  {
   "cell_type": "code",
   "execution_count": null,
   "metadata": {},
   "outputs": [],
   "source": [
    "from importlib import reload\n",
    "import numpy as np\n",
    "import datetime as dt\n",
    "from datetime import timezone as tz\n",
    "from matplotlib import pyplot as plt\n",
    "import pyproj\n",
    "from numpy import ma\n",
    "import a301\n",
    "from a301.cloudsat import get_geo\n",
    "from pathlib import Path\n",
    "#\n",
    "# new functions to read vdata and sds arrays\n",
    "#\n",
    "from a301.cloudsat import HDFvd_read, HDFsd_read\n",
    "plt.style.use('ggplot')"
   ]
  },
  {
   "cell_type": "markdown",
   "metadata": {},
   "source": [
    "# Read in the heating rate array\n",
    "\n",
    "its shape is (2,37082,125) with the first index = 0 for the shortwave heating\n",
    "rate and 1 for the longwave heating rate.\n",
    "\n",
    "After dividing by the scaling factor the units are (K/day)."
   ]
  },
  {
   "cell_type": "code",
   "execution_count": null,
   "metadata": {},
   "outputs": [],
   "source": [
    "hr_file= list(a301.test_dir.glob('*FLXHR*hdf'))[0]\n",
    "lats,lons,date_times,prof_times,dem_elevation=get_geo(hr_file)\n",
    "#\n",
    "# Question: what is the purpose of squeeze()?\n",
    "#\n",
    "lats=lats.squeeze()\n",
    "lons=lons.squeeze()\n",
    "qr, qr_attrs = HDFsd_read(hr_file,'QR')\n",
    "qr_height, height_attrs = HDFsd_read(hr_file,'Height')\n",
    "factor = HDFvd_read(hr_file,'QR.factor',vgroup='Swath Attributes')[0][0]\n",
    "missing = HDFvd_read(hr_file,'QR.missing',vgroup='Swath Attributes')[0][0]\n",
    "units = HDFvd_read(hr_file,'QR.units',vgroup='Swath Attributes')[0][0]\n",
    "#set_trace()\n",
    "hit = (qr == missing)\n",
    "qr = qr.astype(np.float64)/factor\n",
    "qr[hit]=np.nan\n",
    "print(units)\n",
    "print(qr.shape)"
   ]
  },
  {
   "cell_type": "markdown",
   "metadata": {},
   "source": [
    "# Find the part of the orbit that corresponds to the 3 minutes containing the storm\n",
    "\n",
    "You need to enter the start_hour and start_minute for the start time of your cyclone in the granule"
   ]
  },
  {
   "cell_type": "code",
   "execution_count": null,
   "metadata": {},
   "outputs": [],
   "source": [
    "def find_times(date_times,start_hour,start_minute,del_minutes):\n",
    "    first_time=date_times[0]\n",
    "    print(f'orbit start: {first_time}')\n",
    "    storm_start=dt.datetime(first_time.year,first_time.month,first_time.day,\n",
    "                                        start_hour,start_minute,0,tzinfo=tz.utc)\n",
    "    #\n",
    "    # get x minutes of data from the storm_start\n",
    "    #\n",
    "    storm_stop=storm_start + dt.timedelta(minutes=del_minutes)\n",
    "    time_hit = np.logical_and(date_times > storm_start,date_times < storm_stop)\n",
    "    return time_hit\n",
    "\n",
    "start_hour=6\n",
    "start_minute=45\n",
    "del_minutes=3.\n",
    "time_hit = find_times(date_times,start_hour,start_minute,del_minutes)\n",
    "\n",
    "\n",
    "#pdb.set_trace()\n",
    "storm_lats = lats[time_hit]\n",
    "storm_lons=lons[time_hit]\n",
    "storm_prof_times=prof_times[time_hit]\n",
    "storm_qr=qr[:,time_hit,:]\n",
    "storm_height=qr_height[time_hit,:]\n",
    "storm_date_times=date_times[time_hit]\n",
    "print(f'storm start: {storm_date_times[0]}')"
   ]
  },
  {
   "cell_type": "code",
   "execution_count": null,
   "metadata": {},
   "outputs": [],
   "source": [
    "storm_qr.shape"
   ]
  },
  {
   "cell_type": "markdown",
   "metadata": {},
   "source": [
    "# convert time to distance by using pyproj to get the greatcircle distance between shots"
   ]
  },
  {
   "cell_type": "code",
   "execution_count": null,
   "metadata": {},
   "outputs": [],
   "source": [
    "def find_distance(storm_lons,storm_lats):\n",
    "    \"\"\"\n",
    "    use pyproj.great_circle to turn lat/lon into surface distances\n",
    "\n",
    "    Parameters\n",
    "    ----------\n",
    "\n",
    "    storm_lons: float array\n",
    "          longitudes in deg E\n",
    "\n",
    "    stom_lats: float array\n",
    "          latitudes in deg N\n",
    "\n",
    "    Returns\n",
    "    -------\n",
    "\n",
    "    distance: float array\n",
    "        Great circle distances between each (lon,lat) pair in km\n",
    "    \"\"\"\n",
    "    meters2km=1.e3\n",
    "    great_circle=pyproj.Geod(ellps='WGS84')\n",
    "    distance=[0]\n",
    "    start=(storm_lons[0],storm_lats[0])\n",
    "    for index in np.arange(1,len(storm_lons)):\n",
    "        azi12,azi21,step= great_circle.inv(storm_lons[index-1],storm_lats[index-1],\n",
    "                                           storm_lons[index],storm_lats[index])\n",
    "        distance.append(distance[index-1] + step)\n",
    "    distance=np.array(distance)/meters2km\n",
    "    return distance\n",
    "\n",
    "distance=find_distance(storm_lons,storm_lats)"
   ]
  },
  {
   "cell_type": "markdown",
   "metadata": {},
   "source": [
    "## split out the long and shortwave heating rates"
   ]
  },
  {
   "cell_type": "code",
   "execution_count": null,
   "metadata": {},
   "outputs": [],
   "source": [
    "shortwave_qr=storm_qr[0,:,:]\n",
    "longwave_qr=storm_qr[1,:,:]"
   ]
  },
  {
   "cell_type": "markdown",
   "metadata": {},
   "source": [
    "# Make the plot assuming that height is the same for every shot\n",
    "\n",
    "We need to customize the subplots so we can share the x axis and drop the colorbar\n",
    "in below the plots"
   ]
  },
  {
   "cell_type": "code",
   "execution_count": null,
   "metadata": {},
   "outputs": [],
   "source": [
    "%matplotlib inline\n",
    "\n",
    "from matplotlib import cm\n",
    "from matplotlib.colors import Normalize\n",
    "from mpl_toolkits.axes_grid1 import make_axes_locatable\n",
    "\n",
    "def plot_field2(distance,height,field,fig,cmap=None,norm=None):\n",
    "    \"\"\"\n",
    "    draw a 2 panel plot with identical panel sizes.\n",
    "    uses the sharex keyword to give both plots the same x axis (distance)\n",
    "    and the gridspec class to lay out the grid\n",
    "\n",
    "    https://stackoverflow.com/questions/10388462/matplotlib-different-size-subplots\n",
    "    \"\"\"\n",
    "    from matplotlib import gridspec\n",
    "    gs = gridspec.GridSpec(2, 1, height_ratios=[1, 1])\n",
    "    ax1 = fig.add_subplot(gs[0])\n",
    "    ax2 = fig.add_subplot(gs[1],sharex=ax1)\n",
    "    if cmap is None:\n",
    "        cmap=cm.inferno\n",
    "    col=ax1.pcolormesh(distance,height,field,cmap=cmap,\n",
    "                  norm=the_norm)\n",
    "    #https://stackoverflow.com/questions/18195758/set-matplotlib-colorbar-size-to-match-graph\n",
    "    # create an axes on the bottom side of ax1. The height of cax will be 5%\n",
    "    # of ax and the padding between cax and ax will be fixed at 0.55 inch.\n",
    "    divider = make_axes_locatable(ax1)\n",
    "    cax = divider.append_axes(\"bottom\", size=\"5%\", pad=0.55)\n",
    "    ax1.figure.colorbar(col,extend='both',cax=cax,orientation='horizontal')\n",
    "    return ax1, ax2\n",
    "\n",
    "meters2km=1.e3\n",
    "vmin=0\n",
    "vmax=15\n",
    "the_norm=Normalize(vmin=vmin,vmax=vmax,clip=False)\n",
    "cmap_ref=cm.plasma\n",
    "cmap_ref.set_over('c')\n",
    "cmap_ref.set_under('b',alpha=0.2)\n",
    "cmap_ref.set_bad('0.75') #75% grey\n",
    "#\n",
    "#  see http://strftime.org/ for these format strings\n",
    "#\n",
    "start_string=storm_date_times[0].strftime(\"%Y-%m-%d %H:%M:%S UTC\")\n",
    "stop_string=storm_date_times[-1].strftime(\"%Y-%m-%d %H:%M:%S UTC\")\n",
    "\n",
    "cloud_height_km=qr_height[0,:]/meters2km\n",
    "fig = plt.figure(figsize=(15, 8))\n",
    "ax1, ax2 = plot_field2(distance,cloud_height_km,shortwave_qr.T,\n",
    "                       fig,cmap=cmap_ref,norm=the_norm)\n",
    "ax1.set(ylim=[0,17],xlim=(0,1200))\n",
    "ax1.set(xlabel='distance (km)',ylabel='height (km)',\n",
    "       title=f'shortwave heating rate in (K/day) from {start_string} to '\n",
    "             f'{stop_string}');\n",
    "vmin=-20\n",
    "vmax=20.\n",
    "cmap_ref=cm.bwr\n",
    "cmap_ref.set_over('c')\n",
    "cmap_ref.set_under('b',alpha=0.2)\n",
    "cmap_ref.set_bad('0.75') #75% grey\n",
    "the_norm=Normalize(vmin=vmin,vmax=vmax,clip=False)\n",
    "divider = make_axes_locatable(ax2)\n",
    "cax = divider.append_axes(\"bottom\", size=\"5%\", pad=0.55)\n",
    "col=ax2.pcolormesh(distance,cloud_height_km,longwave_qr.T,cmap=cmap_ref,\n",
    "                  norm=the_norm)\n",
    "ax2.figure.colorbar(col,extend='both',cax=cax,orientation='horizontal')\n",
    "title = (f'longwave heating rate in (K/day) from {start_string} to '\n",
    "         f'{stop_string}')\n",
    "ax2.set(xlabel='distance (km)',ylabel='height (km)',title=title,ylim=[0,17]);"
   ]
  },
  {
   "cell_type": "markdown",
   "metadata": {},
   "source": [
    "Summary -- clouds are heating in the shortwave, cooing in the longwave at rates that are about 3 times larger\n",
    "than the surrounding atmosphere.\n",
    "\n",
    "**Question: How did the Cloudsat science team get these estimates?**\n",
    "\n",
    "We go over this in the Schwartzchild heating rate notes."
   ]
  },
  {
   "cell_type": "code",
   "execution_count": null,
   "metadata": {},
   "outputs": [],
   "source": []
  }
 ],
 "metadata": {
  "jupytext": {
   "text_representation": {
    "extension": ".md",
    "format_name": "myst",
    "format_version": 0.12,
    "jupytext_version": "1.6.0"
   }
  },
  "kernelspec": {
   "display_name": "Python 3",
   "language": "python",
   "name": "python3"
  },
  "source_map": [
   12,
   26,
   30,
   46,
   55,
   74,
   80,
   109,
   111,
   115,
   147,
   151,
   154,
   161,
   229,
   238
  ]
 },
 "nbformat": 4,
 "nbformat_minor": 4
}