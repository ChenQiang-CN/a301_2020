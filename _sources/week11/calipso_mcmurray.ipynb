{
 "cells": [
  {
   "cell_type": "markdown",
   "metadata": {},
   "source": [
    "### Adding lidar data to the Ft. McMurray fire overpass"
   ]
  },
  {
   "cell_type": "markdown",
   "metadata": {},
   "source": [
    "#### 1. Read in the cloudsat and calipso groundtracks\n",
    "\n",
    "See https://www-calipso.larc.nasa.gov/resources/calipso_users_guide/data_summaries/layer/index.php\n",
    "for the lidar profile data specification\n",
    "\n",
    "I've added two new functions to a301lib.geolocate:\n",
    "\n",
    "* [trim_track](https://github.com/a301-teaching/a301_code/blob/5029c180cd8ebeb431069cc28b6699c8b7f4fcfa/a301lib/geolocate.py#L534)\n",
    "  selects the part of the ground-track that is within a Modis scene\n",
    "  \n",
    "* [gc_distance](https://github.com/a301-teaching/a301_code/blob/5029c180cd8ebeb431069cc28b6699c8b7f4fcfa/a301lib/geolocate.py#L582) computes the great circle distance for a lon,lat groundtrack"
   ]
  },
  {
   "cell_type": "code",
   "execution_count": null,
   "metadata": {},
   "outputs": [],
   "source": [
    "import h5py\n",
    "import numpy as np\n",
    "import datetime as dt\n",
    "from datetime import timezone as tz\n",
    "from matplotlib import pyplot as plt\n",
    "import pyproj\n",
    "from numpy import ma\n",
    "from a301utils.a301_readfile import download\n",
    "from a301lib.cloudsat import get_geo as radar_get_geo\n",
    "from a301lib.calipso import get_geo as lidar_get_geo\n",
    "import json\n",
    "from matplotlib import pyplot as plt\n",
    "from mpl_toolkits.basemap import Basemap\n",
    "from a301lib.geolocate import trim_track\n",
    "\n",
    "modis_file='MYD021KM.A2016136.2015.006.reproject.h5'\n",
    "cloudsat_file='2016136191427_53456_CS_2B-GEOPROF_GRANULE_P_R04_E06.h5'\n",
    "calipso_file='CAL_LID_L2_05kmALay-Prov-V3-30.2016-05-15T19-42-56ZD_Subset.h5'\n",
    "download(modis_file)\n",
    "download(cloudsat_file)\n",
    "download(calipso_file)\n",
    "download('after_stretch.png')  #my png file created by qgis"
   ]
  },
  {
   "cell_type": "markdown",
   "metadata": {},
   "source": [
    "#### get the groundtracks for  cloudsat and calipso"
   ]
  },
  {
   "cell_type": "code",
   "execution_count": null,
   "metadata": {},
   "outputs": [],
   "source": [
    "radar_lats,radar_lons,radar_date_times,radar_prof_times,radar_dem_elevation=radar_get_geo(cloudsat_file)\n",
    "    \n",
    "lidar_lats,lidar_lons,lidar_date_times,lidar_prof_times,lidar_dem_elevation=lidar_get_geo(calipso_file)"
   ]
  },
  {
   "cell_type": "markdown",
   "metadata": {},
   "source": [
    "#### Read in the modis image for Ft. Mcmurray"
   ]
  },
  {
   "cell_type": "code",
   "execution_count": null,
   "metadata": {},
   "outputs": [],
   "source": [
    "with h5py.File(modis_file,'r') as h5_file:\n",
    "    basemap_string=h5_file.attrs['basemap_args']\n",
    "    basemap_args=json.loads(basemap_string)\n",
    "    chan1=h5_file['channels']['1'][...]\n",
    "    geotiff_string = h5_file.attrs['geotiff_args']\n",
    "    geotiff_args = json.loads(geotiff_string)\n",
    "    level1b_file=h5_file.attrs['level1b_file']\n",
    "\n",
    "transform = geotiff_args['adfgeotransform']\n",
    "print('basemap_args: \\n{}\\n'.format(basemap_args))\n",
    "print('geotiff_args: \\n{}\\n'.format(geotiff_args))"
   ]
  },
  {
   "cell_type": "markdown",
   "metadata": {},
   "source": [
    "#### Plot the two groundtracks on a 8 bit (256 color) modis image of channel 1"
   ]
  },
  {
   "cell_type": "markdown",
   "metadata": {},
   "source": [
    "### read in my hand-crafted qgis file which I've converted to png"
   ]
  },
  {
   "cell_type": "code",
   "execution_count": null,
   "metadata": {},
   "outputs": [],
   "source": [
    "%matplotlib inline\n",
    "from matplotlib import cm\n",
    "from matplotlib.colors import Normalize\n",
    "\n",
    "cmap=cm.autumn  #see http://wiki.scipy.org/Cookbook/Matplotlib/Show_colormaps\n",
    "cmap.set_over('w')\n",
    "cmap.set_under('b',alpha=0.2)\n",
    "cmap.set_bad('0.75') #75% grey\n",
    "\n",
    "plt.close('all')\n",
    "fig,ax = plt.subplots(1,1,figsize=(14,14))\n",
    "#\n",
    "# set up the Basemap object\n",
    "#\n",
    "basemap_args['ax']=ax\n",
    "basemap_args['resolution']='c'\n",
    "bmap = Basemap(**basemap_args)\n",
    "print(bmap.projparams)\n",
    "x0,y0=bmap.projparams['x_0'],bmap.projparams['y_0']\n",
    "#\n",
    "# transform the ground track lons/lats to x/y\n",
    "#\n",
    "radarx,radary=bmap(radar_lons,radar_lats)\n",
    "lidarx,lidary=bmap(lidar_lons,lidar_lats)\n",
    "\n",
    "x0,y0 = bmap.projparams['x_0'],bmap.projparams['y_0']\n",
    "lidar_hit=trim_track(lidarx,lidary,chan1,transform,x0=x0,y0=y0)\n",
    "lidarx,lidary=lidarx[lidar_hit],lidary[lidar_hit]\n",
    "lidar_lons,lidar_lats=lidar_lons[lidar_hit],lidar_lats[lidar_hit]\n",
    "\n",
    "hit=trim_track(radarx,radary,chan1,transform,x0=x0,y0=y0)\n",
    "radarx,radary=radarx[hit],radary[hit]\n",
    "radar_lons,radar_lats = radar_lons[hit],radar_lats[hit]\n",
    "\n",
    "# #\n",
    "# # plot as blue circles\n",
    "# #\n",
    "bmap.plot(radarx,radary,'bo',alpha=0.2)\n",
    "bmap.plot(lidarx,lidary,'ro')\n",
    "#\n",
    "# now plot channel 1\n",
    "#\n",
    "num_meridians=180\n",
    "num_parallels = 90\n",
    "col = bmap.imshow(chan1, origin='upper',cmap=cmap, vmin=0, vmax=0.1)\n",
    "\n",
    "lon_sep, lat_sep = 5,5\n",
    "parallels = np.arange(-90, 90, lat_sep)\n",
    "meridians = np.arange(0, 360, lon_sep)\n",
    "bmap.drawparallels(parallels, labels=[1, 0, 0, 0],\n",
    "                       fontsize=10, latmax=90)\n",
    "bmap.drawmeridians(meridians, labels=[0, 0, 0, 1],\n",
    "                       fontsize=10, latmax=90)\n",
    "bmap.drawcoastlines()\n",
    "colorbar=fig.colorbar(col, shrink=0.5, pad=0.05,extend='both')\n",
    "colorbar.set_label('channel1 reflectivity',rotation=-90,verticalalignment='bottom')\n",
    "_=ax.set(title='Ft. McMurray')"
   ]
  },
  {
   "cell_type": "markdown",
   "metadata": {},
   "source": [
    "#### Write the groundtracks out for future translation to shapefiles with fiona (as in vector_data.ipynb)"
   ]
  },
  {
   "cell_type": "code",
   "execution_count": null,
   "metadata": {},
   "outputs": [],
   "source": [
    "groundtrack_name = modis_file.replace('reproject','groundtrack')\n",
    "print('writing groundtrack to {}'.format(groundtrack_name))\n",
    "#\n",
    "# h5 files can't store dates, but they can store floating point\n",
    "# seconds since 1970, which is called POSIX timestamp\n",
    "#\n",
    "radar_timestamps = [item.timestamp() for item in radar_date_times]\n",
    "radar_timestamps= np.array(radar_timestamps)\n",
    "lidar_timestamps = [item.timestamp() for item in lidar_date_times]\n",
    "lidar_timestamps= np.array(lidar_timestamps)\n",
    "with h5py.File(groundtrack_name,'w') as groundfile:\n",
    "    groundfile.attrs['cloudsat_filename']=cloudsat_file\n",
    "    groundfile.attrs['calipso_filename']=calipso_file\n",
    "    groundfile.attrs['modis_filename']=level1b_file\n",
    "    groundfile.attrs['reproject_filename']=modis_file\n",
    "    groundfile.attrs['basemap_args']=basemap_string\n",
    "    groundfile.attrs['geotiff_args']=geotiff_string\n",
    "    groundfile.attrs['proj4params']=json.dumps(bmap.projparams,indent=4)\n",
    "    dset=groundfile.create_dataset('radar_lons',radar_lons.shape,radar_lons.dtype)\n",
    "    dset[...] = radar_lons[...]\n",
    "    dset.attrs['long_name']='radar longitude'\n",
    "    dset.attrs['units']='degrees East'\n",
    "    dset=groundfile.create_dataset('radar_lats',radar_lats.shape,radar_lats.dtype)\n",
    "    dset[...] = radar_lats[...]\n",
    "    dset.attrs['long_name']='radar latitude'\n",
    "    dset.attrs['units']='degrees North'\n",
    "    dset= groundfile.create_dataset('radar_times',radar_timestamps.shape,radar_timestamps.dtype)\n",
    "    dset[...] = radar_timestamps[...]\n",
    "\n",
    "    dset=groundfile.create_dataset('lidar_lons',lidar_lons.shape,lidar_lons.dtype)\n",
    "    dset[...] = lidar_lons[...]\n",
    "    dset.attrs['long_name']='lidar longitude'\n",
    "    dset.attrs['units']='degrees East'\n",
    "    dset=groundfile.create_dataset('lidar_lats',lidar_lats.shape,lidar_lats.dtype)\n",
    "    dset[...] = lidar_lats[...]\n",
    "    dset.attrs['long_name']='lidar latitude'\n",
    "    dset.attrs['units']='degrees North'\n",
    "    dset= groundfile.create_dataset('lidar_times',lidar_timestamps.shape,lidar_timestamps.dtype)\n",
    "    dset[...] = lidar_timestamps[...]\n",
    "    dset.attrs['long_name']='lidar UTC datetime timestamp'\n",
    "    dset.attrs['units']='seconds since Jan. 1, 1970'"
   ]
  },
  {
   "cell_type": "code",
   "execution_count": null,
   "metadata": {},
   "outputs": [],
   "source": [
    "fig,ax = plt.subplots(1,1,figsize=(14,14))\n",
    "basemap_args['ax']=ax\n",
    "basemap_args['resolution']='i'\n",
    "bmap = Basemap(**basemap_args)\n",
    "im=plt.imread('after_stretch.png')\n",
    "bmap.imshow(im,origin='upper')\n",
    "bmap.plot(radarx,radary,'bo',alpha=0.2)\n",
    "bmap.plot(lidarx,lidary,'ro')\n",
    "\n",
    "num_meridians=180\n",
    "num_parallels = 90\n",
    "lon_sep, lat_sep = 5,5\n",
    "parallels = np.arange(-90, 90, lat_sep)\n",
    "meridians = np.arange(0, 360, lon_sep)\n",
    "bmap.drawparallels(parallels, labels=[1, 0, 0, 0],\n",
    "                       fontsize=10, latmax=90)\n",
    "bmap.drawmeridians(meridians, labels=[0, 0, 0, 1],\n",
    "                       fontsize=10, latmax=90)\n",
    "bmap.drawcoastlines()"
   ]
  },
  {
   "cell_type": "markdown",
   "metadata": {},
   "source": [
    "#### Plot the 0.5 micron and the 1.0 micron optical depthts for calipso \n",
    "\n",
    "Is the lidar seeing the smoke plumes from the fire?"
   ]
  },
  {
   "cell_type": "code",
   "execution_count": null,
   "metadata": {},
   "outputs": [],
   "source": [
    "%matplotlib inline\n",
    "from a301lib.geolocate import gc_distance\n",
    "distance=gc_distance(lidar_lons,lidar_lats)\n",
    "with h5py.File(calipso_file,'r') as infile:\n",
    "    aer_532=infile['Column_Optical_Depth_Aerosols_532'][...]\n",
    "    aer_1064=infile['Column_Optical_Depth_Aerosols_1064'][...]\n",
    "fig,(ax1,ax2)=plt.subplots(2,1,figsize=(14,4))\n",
    "ax1.plot(lidar_lats,aer_532[lidar_hit])\n",
    "ax2.set(title='0.5 micron optical depth',ylabel='optical depth',xlabel='latitude (deg N)');\n",
    "ax2.plot(distance,aer_532[lidar_hit])\n",
    "ax2.set(ylabel='optical depth',xlabel='distance (km)');"
   ]
  },
  {
   "cell_type": "code",
   "execution_count": null,
   "metadata": {},
   "outputs": [],
   "source": [
    "fig,(ax1,ax2)=plt.subplots(2,1,figsize=(14,4))\n",
    "ax1.plot(lidar_lats,aer_1064[lidar_hit])\n",
    "ax1.set(ylabel='optical depth',xlabel='latitude (deg N)');\n",
    "ax2.plot(distance,aer_1064[lidar_hit])\n",
    "ax2.set(title='1 micron optical depth',ylabel='optical depth',xlabel='distance (km)');"
   ]
  },
  {
   "cell_type": "code",
   "execution_count": null,
   "metadata": {},
   "outputs": [],
   "source": []
  }
 ],
 "metadata": {
  "anaconda-cloud": {},
  "jupytext": {
   "notebook_metadata_filter": "all,-language_info,-toc,-latex_envs",
   "text_representation": {
    "extension": ".md",
    "format_name": "myst",
    "format_version": 0.12,
    "jupytext_version": "1.6.0"
   }
  },
  "kernelspec": {
   "display_name": "Python 3",
   "language": "python",
   "name": "python3"
  },
  "source_map": [
   14,
   18,
   32,
   55,
   59,
   63,
   67,
   79,
   83,
   87,
   145,
   149,
   193,
   213,
   219,
   233,
   241
  ]
 },
 "nbformat": 4,
 "nbformat_minor": 4
}