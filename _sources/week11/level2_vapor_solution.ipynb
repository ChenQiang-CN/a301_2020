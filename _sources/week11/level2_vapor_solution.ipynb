{
 "cells": [
  {
   "cell_type": "markdown",
   "metadata": {},
   "source": [
    "## Solution: Working with level 2 water vapor data\n",
    "\n",
    "We have been using MYD021KM and MYD02QKM data, which are the calibrated and geolocated radiances at 1 km and 250 meter resolution for a 5 minute swath of MODIS data on the Aqua satellite.  The next step up in processing is level 2 data, where the radiances are turned into physical paramters like preciptable water or surface temperature.\n",
    "\n",
    "The level 2 water vapor retrievals from MODIS are indicated by filenames that start with MYD05_L2.  I have downloaded the MYD05_L2 file for our Vancouver granuale.  Water vapor is retrieved on 5 km x 5 km pixels using two separate water vapor absorption bands in the infrared (11 microns) and near-infrared (0.8 microns).  You should use HDFview to convince yourself that the code below reads and scales the two different retrieval fields from this file."
   ]
  },
  {
   "cell_type": "code",
   "execution_count": null,
   "metadata": {},
   "outputs": [],
   "source": [
    "from a301utils.a301_readfile import download\n",
    "from a301lib.geolocate import fast_hist, fast_avg\n",
    "from a301lib.geolocate import find_corners, make_plot\n",
    "from matplotlib import cm\n",
    "import h5py\n",
    "import numpy as np\n",
    "from matplotlib import pyplot as plt\n",
    "from matplotlib.colors import Normalize\n",
    "from IPython.display import Image,display\n",
    "\n",
    "wv_filename = 'MYD05_L2.A2016224.2100.006.2016237021914.h5'\n",
    "download(wv_filename)\n",
    "Image('figures/MYBRGB.A2016224.2100.006.2016237025650.jpg',width=600)"
   ]
  },
  {
   "cell_type": "code",
   "execution_count": null,
   "metadata": {},
   "outputs": [],
   "source": [
    "wv_filename = 'MYD05_L2.A2016224.2100.006.2016237021914.h5'\n",
    "wv_file = h5py.File(wv_filename)\n",
    "print(wv_file)\n",
    "lon_data=wv_file['mod05']['Geolocation Fields']['Longitude'][...]\n",
    "lat_data=wv_file['mod05']['Geolocation Fields']['Latitude'][...]\n",
    "wv_ir=wv_file['mod05']['Data Fields']['Water_Vapor_Infrared'][...]\n",
    "wv_nearir = wv_file['mod05']['Data Fields']['Water_Vapor_Near_Infrared'][...]\n",
    "scale = wv_file['mod05']['Data Fields']['Water_Vapor_Infrared'].attrs['scale_factor']\n",
    "wv_ir = wv_ir*scale\n",
    "scale=wv_file['mod05']['Data Fields']['Water_Vapor_Near_Infrared'].attrs['scale_factor']\n",
    "wv_nearir = wv_nearir*scale\n",
    "corners=find_corners(lat_data,lon_data)\n",
    "\n",
    "lon_min= -140\n",
    "lon_max = -105\n",
    "\n",
    "lat_min = 35\n",
    "lat_max = 55\n",
    "binsize = 0.25\n",
    "\n",
    "\n",
    "\n",
    "lon_hist = fast_hist(lon_data.ravel(),lon_min,lon_max,binsize=binsize)\n",
    "lat_hist =  fast_hist(lat_data.ravel(),lat_min,lat_max,binsize=binsize)\n",
    "gridded_ir = fast_avg(lat_hist,lon_hist,wv_ir.ravel())\n",
    "gridded_nearir = fast_avg(lat_hist,lon_hist,wv_nearir.ravel())\n",
    "\n",
    "%matplotlib inline\n",
    "                       \n",
    "#_=plt.hist(wv_ir.ravel())\n",
    "fig,(ax1,ax2)=plt.subplots(2,1,figsize=(14,10))\n",
    "\n",
    "def set_plot(ax,masked_field,lat_hist,lon_hist,the_norm=None,cmap=None):\n",
    "    corners['ax'] = ax\n",
    "    corners['resolution']='l'\n",
    "    corners['projection']='lcc'\n",
    "    corners['urcrnrlon'] = -90\n",
    "    corners['urcrnrlat'] = 55.\n",
    "    corners['llcrnrlat'] = 35.\n",
    "    corners['llcrnrlon'] = -140.\n",
    "    proj = make_plot(corners)\n",
    "    lat_centers = lat_hist['centers_vec']\n",
    "    lon_centers = lon_hist['centers_vec']\n",
    "    lon_array,lat_array=np.meshgrid(lon_centers,lat_centers)\n",
    "    #\n",
    "    #\n",
    "    # translate every lat,lon pair in the scene to x,y plotting coordinates \n",
    "    # for th Lambert projection\n",
    "    #\n",
    "    x,y=proj(lon_array,lat_array)\n",
    "    CS=proj.pcolormesh(x, y,masked_field, cmap=cmap, norm=the_norm)\n",
    "    CBar=proj.colorbar(CS, 'right', size='5%', pad='5%',extend='both')\n",
    "    CBar.set_label('Column water vapor (cm)',\n",
    "               rotation=270,verticalalignment='bottom',size=10)\n",
    "    return None\n",
    "\n",
    "cmap=cm.YlGnBu\n",
    "cmap.set_over('cyan')\n",
    "cmap.set_under('w',alpha=0.1)\n",
    "cmap.set_bad('0.75') #75% grey\n",
    "#\n",
    "# use all my colors on data between 7 and 10 \n",
    "#\n",
    "vmin= 0\n",
    "vmax= 2\n",
    "the_norm=Normalize(vmin=vmin,vmax=vmax,clip=False)  \n",
    "masked_ir = np.ma.masked_invalid(gridded_ir)\n",
    "set_plot(ax1,masked_ir,lat_hist,lon_hist,\n",
    "         the_norm=the_norm,cmap=cmap)\n",
    "ax1.set_title('Modis IR Column Water Vapor, Vancouver August 11, 2016',size=12)\n",
    "         \n",
    "\n",
    "masked_nearir = np.ma.masked_invalid(gridded_nearir)\n",
    "set_plot(ax2,masked_nearir,lat_hist,lon_hist,\n",
    "          the_norm=the_norm,cmap=cmap)\n",
    "_=ax2.set_title('Modis near IR Column Water Vapor, Vancouver August 11, 2016',size=12)\n"
   ]
  },
  {
   "cell_type": "code",
   "execution_count": null,
   "metadata": {},
   "outputs": [],
   "source": [
    "masked_diff = masked_ir - masked_nearir\n",
    "fig, ax = plt.subplots(1,1, figsize=(10,8))\n",
    "set_plot(ax,masked_diff,lat_hist,lon_hist,\n",
    "          the_norm=the_norm,cmap=cmap)\n",
    "fig.axes[1].set_ylabel('IR - nearIR (cm)')\n",
    "_=ax.set(title='Column WV Retrieval difference: IR - nearIR (cm)')"
   ]
  },
  {
   "cell_type": "code",
   "execution_count": null,
   "metadata": {},
   "outputs": [],
   "source": [
    "fig,ax = plt.subplots(1,1,figsize=(8,6))\n",
    "ax.hist(masked_diff.compressed())\n",
    "_=ax.set(title='difference IR - nearIR retreivals (cm)',\n",
    "        ylabel='pixel counts',xlabel='column water vapor difference (cm)')"
   ]
  },
  {
   "cell_type": "code",
   "execution_count": null,
   "metadata": {},
   "outputs": [],
   "source": []
  }
 ],
 "metadata": {
  "jupytext": {
   "text_representation": {
    "extension": ".md",
    "format_name": "myst",
    "format_version": 0.12,
    "jupytext_version": "1.6.0"
   }
  },
  "kernelspec": {
   "display_name": "Python [conda root]",
   "language": "python",
   "name": "conda-root-py"
  },
  "source_map": [
   12,
   20,
   36,
   116,
   125,
   132
  ]
 },
 "nbformat": 4,
 "nbformat_minor": 4
}