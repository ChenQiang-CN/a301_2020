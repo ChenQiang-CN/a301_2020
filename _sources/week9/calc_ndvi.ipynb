{
 "cells": [
  {
   "cell_type": "markdown",
   "metadata": {},
   "source": [
    "(landsat2)=\n",
    "# Landast part 2: rasterio\n",
    "\n",
    "This notebook reads in the red, and near-ir bands from a landsat 8 image\n",
    "and calculates the [ndvi](https://en.wikipedia.org/wiki/Normalized_difference_vegetation_index), defined as\n",
    "\n",
    "$$ndvi = (nir - red)/(nir + red)$$\n",
    "\n",
    "where nir and red are the\n",
    "respective spectral directional reflectances.\n",
    "\n",
    "To get the landsat data, you'll need to first run {ref}`landsat1`"
   ]
  },
  {
   "cell_type": "code",
   "execution_count": 1,
   "metadata": {},
   "outputs": [
    {
     "name": "stdout",
     "output_type": "stream",
     "text": [
      "******************************\n",
      "context imported. Front of path:\n",
      "/home/phil/work\n",
      "\n"
     ]
    }
   ],
   "source": [
    "import pprint\n",
    "from pathlib import Path\n",
    "\n",
    "import numpy as np\n",
    "import rasterio\n",
    "from matplotlib import pyplot as plt\n",
    "from pathlib import Path\n",
    "import a301_lib"
   ]
  },
  {
   "cell_type": "markdown",
   "metadata": {},
   "source": [
    "## Get the vancouver image"
   ]
  },
  {
   "cell_type": "code",
   "execution_count": 2,
   "metadata": {},
   "outputs": [
    {
     "name": "stdout",
     "output_type": "stream",
     "text": [
      "landsat_scenes/LC08_L1TP_047026_20150614_20180131_01_T1/LC08_L1TP_047026_20150614_20180131_01_T1_B4.TIF landsat_scenes/LC08_L1TP_047026_20150614_20180131_01_T1/LC08_L1TP_047026_20150614_20180131_01_T1_B5.TIF landsat_scenes/LC08_L1TP_047026_20150614_20180131_01_T1/LC08_L1TP_047026_20150614_20180131_01_T1_MTL.txt\n"
     ]
    }
   ],
   "source": [
    "landsat_dir = Path() / \"landsat_scenes\"\n",
    "b4_file = list(landsat_dir.glob(\"**/*B4.TIF\"))[0]\n",
    "b5_file = list(landsat_dir.glob(\"**/*B5.TIF\"))[0]\n",
    "mtl_file = list(landsat_dir.glob(\"**/*MTL.txt\"))[0]\n",
    "print(b4_file,b5_file,mtl_file)"
   ]
  },
  {
   "cell_type": "markdown",
   "metadata": {},
   "source": [
    "* Read in the bands  4 (red) and 5 (near infrared)\n",
    "\n",
    "Note that rasterio is a pretty complicated object with a lot of functionality.\n",
    "\n",
    "The full documentation is at https://rasterio.readthedocs.io/en/latest/"
   ]
  },
  {
   "cell_type": "code",
   "execution_count": 3,
   "metadata": {},
   "outputs": [
    {
     "name": "stdout",
     "output_type": "stream",
     "text": [
      "(7961, 7851) (7961, 7851)\n",
      "[[0 0 0 ... 0 0 0]\n",
      " [0 0 0 ... 0 0 0]\n",
      " [0 0 0 ... 0 0 0]\n",
      " ...\n",
      " [0 0 0 ... 0 0 0]\n",
      " [0 0 0 ... 0 0 0]\n",
      " [0 0 0 ... 0 0 0]]\n"
     ]
    }
   ],
   "source": [
    "with rasterio.open(b4_file) as b4_raster:\n",
    "    b4_data = b4_raster.read(1)\n",
    "with rasterio.open(b5_file) as b5_raster:\n",
    "    b5_data = b5_raster.read(1)\n",
    "print(b4_data.shape,b5_data.shape)\n",
    "print(b4_data[:1000,:1000])"
   ]
  },
  {
   "cell_type": "markdown",
   "metadata": {},
   "source": [
    "* Find the toa reflectance for each channel\n",
    "\n",
    "Use [toa_reflectance_8](https://github.com/phaustin/a301_2020/blob/c2070ca26090dc4a7e612c1e9c4ed2d9e865ae5e/a301/landsat/toa_reflectance.py#L19) to turn band counts into reflectance."
   ]
  },
  {
   "cell_type": "code",
   "execution_count": 4,
   "metadata": {},
   "outputs": [
    {
     "name": "stdout",
     "output_type": "stream",
     "text": [
      "in sat_lib init\n",
      "Scene LC80470262015165LGN02 center time is 2015-06-14 19:00:43\n",
      "Scene LC80470262015165LGN02 center time is 2015-06-14 19:00:43\n"
     ]
    },
    {
     "name": "stdout",
     "output_type": "stream",
     "text": [
      "<sat_lib.landsat.landsat_metadata.landsat_metadata object at 0x7f6d505b9b80>\n"
     ]
    }
   ],
   "source": [
    "from sat_lib.landsat.toa_reflectance import toa_reflectance_8, landsat_metadata\n",
    "meta=landsat_metadata(mtl_file)\n",
    "out = toa_reflectance_8([4, 5], mtl_file)\n",
    "print(meta)"
   ]
  },
  {
   "cell_type": "markdown",
   "metadata": {},
   "source": [
    "* Silence annoying warnings from numpy"
   ]
  },
  {
   "cell_type": "code",
   "execution_count": 5,
   "metadata": {},
   "outputs": [
    {
     "data": {
      "text/plain": [
       "{'divide': 'warn', 'over': 'warn', 'under': 'ignore', 'invalid': 'warn'}"
      ]
     },
     "execution_count": 5,
     "metadata": {},
     "output_type": "execute_result"
    }
   ],
   "source": [
    "np.seterr(divide=\"ignore\", invalid=\"ignore\")"
   ]
  },
  {
   "cell_type": "markdown",
   "metadata": {},
   "source": [
    "*  NIR is much more reflective than red"
   ]
  },
  {
   "cell_type": "code",
   "execution_count": 6,
   "metadata": {},
   "outputs": [
    {
     "data": {
      "text/plain": [
       "array([[nan, nan, nan, ..., nan, nan, nan],\n",
       "       [nan, nan, nan, ..., nan, nan, nan],\n",
       "       [nan, nan, nan, ..., nan, nan, nan],\n",
       "       ...,\n",
       "       [nan, nan, nan, ..., nan, nan, nan],\n",
       "       [nan, nan, nan, ..., nan, nan, nan],\n",
       "       [nan, nan, nan, ..., nan, nan, nan]], dtype=float32)"
      ]
     },
     "execution_count": 6,
     "metadata": {},
     "output_type": "execute_result"
    }
   ],
   "source": [
    "out[5]"
   ]
  },
  {
   "cell_type": "code",
   "execution_count": 7,
   "metadata": {},
   "outputs": [
    {
     "data": {
      "image/png": "[encoded data removed]",
      "text/plain": [
       "<Figure size 432x288 with 1 Axes>"
      ]
     },
     "metadata": {
      "filenames": {
       "image/png": "/home/phil/repos/a301_2020/notebooks/_build/jupyter_execute/week9/calc_ndvi_12_0.png"
      },
      "needs_background": "light"
     },
     "output_type": "display_data"
    }
   ],
   "source": [
    "flat_5 = out[5].ravel()\n",
    "subset = np.random.randint(0, high=len(flat_5), size=1000, dtype='l')\n",
    "hit = (flat_5[subset] < 1.2) & (flat_5[subset] > 0)\n",
    "plt.hist(flat_5[subset][hit])\n",
    "plt.title(\"band 5 reflectance\");"
   ]
  },
  {
   "cell_type": "code",
   "execution_count": 8,
   "metadata": {},
   "outputs": [
    {
     "data": {
      "image/png": "[encoded data removed]",
      "text/plain": [
       "<Figure size 432x288 with 1 Axes>"
      ]
     },
     "metadata": {
      "filenames": {
       "image/png": "/home/phil/repos/a301_2020/notebooks/_build/jupyter_execute/week9/calc_ndvi_13_0.png"
      },
      "needs_background": "light"
     },
     "output_type": "display_data"
    }
   ],
   "source": [
    "flat_4 = out[4].ravel()\n",
    "hit = (flat_4[subset] < 1.2) & (flat_4[subset] > 0)\n",
    "plt.hist(flat_4[subset][hit])\n",
    "plt.title(\"band 4 reflectance\");"
   ]
  },
  {
   "cell_type": "markdown",
   "metadata": {},
   "source": [
    "*  Calculate the ndvi"
   ]
  },
  {
   "cell_type": "code",
   "execution_count": 9,
   "metadata": {},
   "outputs": [],
   "source": [
    "ndvi = (out[5] - out[4]) / (out[5] + out[4])\n",
    "ndvi_flat = ndvi.ravel()"
   ]
  },
  {
   "cell_type": "code",
   "execution_count": 10,
   "metadata": {},
   "outputs": [
    {
     "data": {
      "text/plain": [
       "Text(0.5, 1.0, 'ndvi')"
      ]
     },
     "execution_count": 10,
     "metadata": {},
     "output_type": "execute_result"
    },
    {
     "data": {
      "image/png": "[encoded data removed]",
      "text/plain": [
       "<Figure size 432x288 with 1 Axes>"
      ]
     },
     "metadata": {
      "filenames": {
       "image/png": "/home/phil/repos/a301_2020/notebooks/_build/jupyter_execute/week9/calc_ndvi_16_1.png"
      },
      "needs_background": "light"
     },
     "output_type": "display_data"
    }
   ],
   "source": [
    "hit = (ndvi_flat[subset] < 1.0) & (ndvi_flat[subset] > -1)\n",
    "plt.hist(ndvi_flat[subset][hit])\n",
    "plt.title(\"ndvi\")"
   ]
  },
  {
   "cell_type": "markdown",
   "metadata": {},
   "source": [
    "* Does the reflectance step matter?\n",
    "\n",
    "Check to see if you histograms look different when you do the ndvi with raw counts\n",
    "instead of reflectance."
   ]
  },
  {
   "cell_type": "code",
   "execution_count": null,
   "metadata": {},
   "outputs": [],
   "source": []
  }
 ],
 "metadata": {
  "jupytext": {
   "notebook_metadata_filter": "all,-language_info,-toc,-latex_envs",
   "text_representation": {
    "extension": ".md",
    "format_name": "myst",
    "format_version": 0.12,
    "jupytext_version": "1.6.1-dev"
   }
  },
  "kernelspec": {
   "display_name": "Python 3",
   "language": "python",
   "name": "python3"
  },
  "language_info": {
   "codemirror_mode": {
    "name": "ipython",
    "version": 3
   },
   "file_extension": ".py",
   "mimetype": "text/x-python",
   "name": "python",
   "nbconvert_exporter": "python",
   "pygments_lexer": "ipython3",
   "version": "3.8.6"
  },
  "source_map": [
   13,
   28,
   37,
   41,
   47,
   55,
   62,
   68,
   73,
   77,
   79,
   83,
   87,
   95,
   100,
   104,
   109,
   113,
   120
  ]
 },
 "nbformat": 4,
 "nbformat_minor": 4
}