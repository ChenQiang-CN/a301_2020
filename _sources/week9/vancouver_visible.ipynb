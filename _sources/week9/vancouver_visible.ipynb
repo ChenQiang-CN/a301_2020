{
 "cells": [
  {
   "cell_type": "markdown",
   "metadata": {},
   "source": [
    "(vancouver_visible)=\n",
    "# NDVI for Vancouver\n",
    "\n",
    "* One of the most important MODIS level 2 products for land remote sensing is the\n",
    "  [Normalized difference vegetation index](https://en.wikipedia.org/wiki/Normalized_Difference_Vegetation_Index)\n",
    "\n",
    "* Visible red (channel 1) and nearir (Channel 2) reflectivities at 250 meter resolution\n",
    "\n",
    "* Since 250 meter resolution channels are so big, this notebook reads a subset\n",
    "  of a Vancouver scene.  Channel 1 and Channel 2 are stored as 1 dimensional vectors,\n",
    "  since all we are doing here is histogramming.  No need for pyresample or lats/lons.\n",
    "\n",
    "* [Modis channel listing](https://modis.gsfc.nasa.gov/about/specifications.php)\n",
    "\n",
    "* Band 1 centered at 0.645 microns (red), Band 2 at 0.85 microns (nearir)\n",
    "\n",
    "* data acquired at 250 m resolution, August 11, 2016\n",
    "\n",
    "* I've written the measurements between -125 -> -120 deg lon and 45-50 degrees lat to\n",
    "  an hdf:  vancouver_hires.h5, download in the cell below\n",
    "\n",
    "* see what the  [ndvi](https://en.wikipedia.org/wiki/Normalized_Difference_Vegetation_Index) histogram looks like at 250 meter resoluiton"
   ]
  },
  {
   "cell_type": "code",
   "execution_count": null,
   "metadata": {},
   "outputs": [],
   "source": [
    "import numpy as np\n",
    "import h5py\n",
    "import sys\n",
    "import a301_lib\n",
    "import matplotlib\n",
    "matplotlib.use('Agg')\n",
    "from matplotlib import pyplot as plt\n",
    "import sat_lib.hdftools.h5dump as h5dump\n",
    "from sat_lib.modismeta_read import parseMeta\n",
    "from sat_lib.geometry import get_proj_params\n",
    "import cartopy\n",
    "\n",
    "#\n",
    "# use hdfview to see the structure of this file\n",
    "#\n",
    "filename = a301_lib.sat_data / 'vancouver_hires.h5'"
   ]
  },
  {
   "cell_type": "code",
   "execution_count": null,
   "metadata": {},
   "outputs": [],
   "source": [
    "h5dump.main(filename)"
   ]
  },
  {
   "cell_type": "markdown",
   "metadata": {},
   "source": [
    "Here is the corresponding red,green,blue color composite for the granule."
   ]
  },
  {
   "cell_type": "markdown",
   "metadata": {},
   "source": [
    "<img src='figures/MYBRGB.A2016224.2100.006.2016237025650.jpg' width='600px' >\n",
    "\n",
    "## Histogram\n",
    "\n",
    "Now histogram the NDVI for the Vancouver box -- note the range of NDVI -- lots of vegetation (0.8) and some water (less than 0)"
   ]
  },
  {
   "cell_type": "code",
   "execution_count": null,
   "metadata": {},
   "outputs": [],
   "source": [
    "with h5py.File(filename,'r') as h5_file:\n",
    "    chan1_refl=h5_file['data_fields']['chan1'][...]\n",
    "    chan2_refl=h5_file['data_fields']['chan2'][...]\n",
    "    lats=h5_file['latlon']['lat'][...]\n",
    "    lons=h5_file['latlon']['lon'][...]\n",
    "    lat_0 = h5_file.attrs['lat_0']\n",
    "    lon_0 = h5_file.attrs['lon_0']\n",
    "    core_metadata = h5_file.attrs['CoreMetadata.0']\n",
    "ndvi = (chan2_refl - chan1_refl)/(chan2_refl + chan1_refl)\n",
    "#breakpoint()\n",
    "fig, axis = plt.subplots(1,1,figsize=(10,10))\n",
    "axis.hist(ndvi.flat)\n",
    "axis.set(title='ndvi Vancouver');"
   ]
  },
  {
   "cell_type": "markdown",
   "metadata": {},
   "source": [
    "## Resample"
   ]
  },
  {
   "cell_type": "markdown",
   "metadata": {},
   "source": [
    "* Now resample following https://a301_web.eoas.ubc.ca/week4/cartopy_resample_ch30_h5.html?highlight=resample#now-resample\n",
    "\n",
    "One complication is that my central `lat_0` and `lon_0` are not the same as given by swath info,\n",
    "because I am using only a slice from the large QKM file.  So I need to replace those\n",
    "with the values I read from `vancouver_hires.h5` at the top of the notebook."
   ]
  },
  {
   "cell_type": "code",
   "execution_count": null,
   "metadata": {},
   "outputs": [],
   "source": [
    "swath_info = parseMeta(core_metadata)\n",
    "proj_params = get_proj_params(swath_info)\n",
    "proj_params['lon_0'] = lon_0\n",
    "proj_params['lat_0'] = lat_0\n",
    "#breakpoint()"
   ]
  },
  {
   "cell_type": "code",
   "execution_count": null,
   "metadata": {},
   "outputs": [],
   "source": [
    "from pyresample import SwathDefinition, kd_tree, geometry\n",
    "\n",
    "swath_def = SwathDefinition(lons, lats)\n",
    "area_def= swath_def.compute_optimal_bb_area(proj_dict=proj_params)\n",
    "fill_value = -9999.0\n",
    "ndvi_reproj = kd_tree.resample_nearest(\n",
    "    swath_def,\n",
    "    ndvi.ravel(),\n",
    "    area_def,\n",
    "    radius_of_influence=5000,\n",
    "    nprocs=2,\n",
    "    fill_value=fill_value,\n",
    ")\n",
    "ndvi_reproj[ndvi_reproj < -9000] = np.nan\n",
    "print(f\"\\ndump area definition:\\n{area_def}\\n\")\n",
    "print(\n",
    "    (\n",
    "        f\"\\nx and y pixel dimensions in meters:\"\n",
    "        f\"\\n{area_def.pixel_size_x}\\n{area_def.pixel_size_y}\\n\"\n",
    "    )\n",
    ")"
   ]
  },
  {
   "cell_type": "code",
   "execution_count": null,
   "metadata": {},
   "outputs": [],
   "source": [
    "import copy\n",
    "pal = plt.get_cmap(\"Greens\")\n",
    "pal = copy.copy(pal)\n",
    "pal.set_bad(\"0.75\")  # 75% grey for out-of-map cells\n",
    "pal.set_over(\"r\")  # color cells > vmax red\n",
    "pal.set_under(\"k\")  # color cells < vmin black\n",
    "vmin = 0\n",
    "vmax = 0.8\n",
    "from matplotlib.colors import Normalize\n",
    "\n",
    "the_norm = Normalize(vmin=vmin, vmax=vmax, clip=False)"
   ]
  },
  {
   "cell_type": "code",
   "execution_count": null,
   "metadata": {},
   "outputs": [],
   "source": [
    "crs = area_def.to_cartopy_crs()\n",
    "fig, ax = plt.subplots(1, 1, figsize=(15,25), subplot_kw={\"projection\": crs})\n",
    "ax.gridlines(linewidth=2)\n",
    "ax.add_feature(cartopy.feature.GSHHSFeature(scale=\"high\", levels=[1, 2, 3]))\n",
    "ax.set_extent(crs.bounds, crs)\n",
    "cs = ax.imshow(\n",
    "    ndvi_reproj,\n",
    "    transform=crs,\n",
    "    extent=crs.bounds,\n",
    "    origin=\"upper\",\n",
    "    alpha=0.8,\n",
    "    cmap=pal,\n",
    "    norm=the_norm,\n",
    ")\n",
    "fig.colorbar(cs, extend=\"both\");\n",
    "fig.savefig('figures/vancouver.png')"
   ]
  },
  {
   "cell_type": "markdown",
   "metadata": {},
   "source": [
    "<img src='figures/vancouver.png'>"
   ]
  }
 ],
 "metadata": {
  "jupytext": {
   "cell_metadata_filter": "all",
   "notebook_metadata_filter": "all,-language_info,-toc,-latex_envs",
   "text_representation": {
    "extension": ".md",
    "format_name": "myst",
    "format_version": 0.12,
    "jupytext_version": "1.6.1-dev"
   }
  },
  "kernelspec": {
   "display_name": "Python 3",
   "language": "python",
   "name": "python3"
  },
  "source_map": [
   14,
   39,
   58,
   60,
   64,
   72,
   86,
   90,
   98,
   106,
   130,
   144,
   161
  ]
 },
 "nbformat": 4,
 "nbformat_minor": 4
}