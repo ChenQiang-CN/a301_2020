{
 "cells": [
  {
   "cell_type": "markdown",
   "metadata": {},
   "source": [
    "(landsat_wrs)=\n",
    "# Landsat: finding wrs path/row\n",
    "\n",
    "This notebook runs the code that is discussed in this tutorial:\n",
    "https://www.earthdatascience.org/tutorials/convert-landsat-path-row-to-lat-lon/"
   ]
  },
  {
   "cell_type": "code",
   "execution_count": 1,
   "metadata": {},
   "outputs": [],
   "source": [
    "import io\n",
    "import ogr\n",
    "import shapely.wkt\n",
    "import shapely.geometry\n",
    "import urllib.request\n",
    "import zipfile\n",
    "#\n",
    "# first time: download_file=True will\n",
    "# go to amazon and get vector shape files for\n",
    "# all the WRS path-row sectors\n",
    "#\n",
    "download_file=True\n",
    "if download_file:\n",
    "    url = \"https://prd-wret.s3-us-west-2.amazonaws.com/assets/palladium/production/s3fs-public/atoms/files/WRS2_descending_0.zip\"\n",
    "    r = urllib.request.urlopen(url)\n",
    "    zip_file = zipfile.ZipFile(io.BytesIO(r.read()))\n",
    "    zip_file.extractall(\"landsat-path-row\")\n",
    "    zip_file.close()\n",
    "shapefile = 'landsat-path-row/WRS2_descending.shp'\n",
    "wrs = ogr.Open(shapefile)\n",
    "layer = wrs.GetLayer(0)\n",
    "lon = -123  # Vancouver lon deg E\n",
    "lat = 49   # Vancouver lat deg N\n",
    "point = shapely.geometry.Point(lon, lat)\n",
    "mode = 'D'  # look for descending (daytime) image"
   ]
  },
  {
   "cell_type": "markdown",
   "metadata": {},
   "source": [
    "* this functions checks to see whether a lat/lon point falls within\n",
    "  a particular WRS sector (feature)"
   ]
  },
  {
   "cell_type": "code",
   "execution_count": 2,
   "metadata": {},
   "outputs": [],
   "source": [
    "def checkPoint(feature, point, mode):\n",
    "    geom = feature.GetGeometryRef() #Get geometry from feature\n",
    "    shape = shapely.wkt.loads(geom.ExportToWkt()) #Import geometry into shapely to easily work with our point\n",
    "    if point.within(shape) and feature['MODE']==mode:\n",
    "        return True\n",
    "    else:\n",
    "        return False"
   ]
  },
  {
   "cell_type": "markdown",
   "metadata": {},
   "source": [
    "* loop over all features until you find the one that\n",
    "  contains the point, then print the path/row"
   ]
  },
  {
   "cell_type": "code",
   "execution_count": 3,
   "metadata": {},
   "outputs": [
    {
     "name": "stdout",
     "output_type": "stream",
     "text": [
      "Path:  47 Row:  26\n"
     ]
    }
   ],
   "source": [
    "i=0\n",
    "while not checkPoint(layer.GetFeature(i), point, mode):\n",
    "    i += 1\n",
    "feature = layer.GetFeature(i)\n",
    "path = feature['PATH']\n",
    "row = feature['ROW']\n",
    "print('Path: ', path, 'Row: ', row)"
   ]
  }
 ],
 "metadata": {
  "jupytext": {
   "cell_metadata_filter": "-all",
   "notebook_metadata_filter": "all,-language_info,-toc,-latex_envs",
   "text_representation": {
    "extension": ".md",
    "format_name": "myst",
    "format_version": 0.12,
    "jupytext_version": "1.6.0"
   }
  },
  "kernelspec": {
   "display_name": "Python 3",
   "language": "python",
   "name": "python3"
  },
  "language_info": {
   "codemirror_mode": {
    "name": "ipython",
    "version": 3
   },
   "file_extension": ".py",
   "mimetype": "text/x-python",
   "name": "python",
   "nbconvert_exporter": "python",
   "pygments_lexer": "ipython3",
   "version": "3.8.6"
  },
  "source_map": [
   14,
   22,
   48,
   53,
   61,
   66
  ]
 },
 "nbformat": 4,
 "nbformat_minor": 4
}