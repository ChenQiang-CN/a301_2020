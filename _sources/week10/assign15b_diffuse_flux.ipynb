{
 "cells": [
  {
   "cell_type": "code",
   "execution_count": 1,
   "metadata": {},
   "outputs": [],
   "source": [
    "#\n",
    "import matplotlib\n",
    "import matplotlib.pyplot as plt"
   ]
  },
  {
   "cell_type": "code",
   "execution_count": 2,
   "metadata": {},
   "outputs": [
    {
     "data": {
      "text/plain": [
       "-1.6094379124341003"
      ]
     },
     "execution_count": 2,
     "metadata": {},
     "output_type": "execute_result"
    }
   ],
   "source": [
    "import numpy as np\n",
    "from scipy.special import expn\n",
    "\n",
    "np.log(0.2)"
   ]
  },
  {
   "cell_type": "markdown",
   "metadata": {},
   "source": [
    "# Introduction\n",
    "\n",
    "\n",
    "\n",
    "In the [flux_schwartzchild](https://clouds.eos.ubc.ca/~phil/courses/atsc301/flux_schwartzchild.html) notes I claimed\n",
    " that the following approximation was a good one:\n",
    "\n",
    " $$\\hat{t}_f =  2 \\int_0^1 \\mu \\exp \\left (- \\frac{\\tau }{\\mu} \\right ) d\\mu\n",
    "       \\approx  \\exp \\left (-1.66 \\tau \\right )$$\n",
    "\n",
    " We can check this with an exact answer, since this integral is important enough to have a function defined for it in the scipy math module.  First, be sure you understand how the change in variables\n",
    "\n",
    " $$u = \\mu^{-1}$$\n",
    "\n",
    " Transforms this equation into the **third exponential integral**:\n",
    "\n",
    " $$\\hat{t}_f = 2 \\int_1^\\infty \\frac{\\exp(-u \\tau)}{u^3} du$$\n",
    "\n",
    " The cell below graphs this function which in python is available as::\n",
    "\n",
    "     scipy.special.expn(3,the_tau))"
   ]
  },
  {
   "cell_type": "code",
   "execution_count": 3,
   "metadata": {},
   "outputs": [
    {
     "data": {
      "text/plain": [
       "[Text(0, 0.5, 'flux_trans'), Text(0.5, 0, 'vertical optical depth $\\\\tau$')]"
      ]
     },
     "execution_count": 3,
     "metadata": {},
     "output_type": "execute_result"
    },
    {
     "data": {
      "image/png": "[encoded data removed]",
      "text/plain": [
       "<Figure size 432x288 with 1 Axes>"
      ]
     },
     "metadata": {
      "filenames": {
       "image/png": "/home/phil/repos/a301_2020/notebooks/_build/jupyter_execute/week10/assign15b_diffuse_flux_3_1.png"
      }
     },
     "output_type": "display_data"
    }
   ],
   "source": [
    "\"\"\"\n",
    "   plot 2*scipy.special.expn(3,the_tau))\n",
    "   this is the accurate version of the flux transmission function\n",
    "   defined above\n",
    "\"\"\"\n",
    "%matplotlib inline\n",
    "\n",
    "matplotlib.style.use(\"ggplot\")\n",
    "tau = np.arange(0.1, 5, 0.1)\n",
    "flux_trans = 2 * expn(3.0, tau)\n",
    "fig, ax = plt.subplots(1, 1)\n",
    "ax.plot(tau, flux_trans, label=\"exact\")\n",
    "ax.plot(tau, np.exp(-1.66 * tau), label=\"approx\")\n",
    "ax.legend()\n",
    "ax.set(ylabel=\"flux_trans\", xlabel=r\"vertical optical depth $\\tau$\")"
   ]
  },
  {
   "cell_type": "markdown",
   "metadata": {},
   "source": [
    "# 15B Flux transmission problem\n",
    "\n",
    "In the cell below, add 2 lines to ax.\n",
    "\n",
    "The first line should plot the numerical approximation to\n",
    "\n",
    "$$\\hat{t}_f = 2 \\int_1^\\infty \\frac{\\exp(-u \\tau)}{u^3} du$$\n",
    "\n",
    "using np.sum and np.diff as usual.  The x axis should use these tau values\n",
    "\n",
    "    tau=np.arange(0.1,5,0.1)\n",
    "\n",
    "Make the line green, with a linewidth of lw=5 so it stands out (it's too late\n",
    "at this point to add it to the legend easily, although that can be done).\n",
    "\n",
    "For the second line, plot the ordinary vertical transmission:\n",
    "\n",
    "$$\\hat{t} = \\exp(-\\tau)$$\n",
    "\n",
    "for comparison, as a black line with lw=5.\n",
    "\n",
    "To show the figure, the last line in your cell should be::\n",
    "\n",
    "    display(fig)"
   ]
  },
  {
   "cell_type": "code",
   "execution_count": 4,
   "metadata": {
    "deletable": false,
    "nbgrader": {
     "cell_type": "code",
     "checksum": "60325a97c3b77fdfa8af1e71a221d271",
     "grade": true,
     "grade_id": "cell-dc415abb23bb771d",
     "locked": false,
     "points": 5,
     "schema_version": 2,
     "solution": true
    }
   },
   "outputs": [],
   "source": [
    "# YOUR CODE HERE\n",
    "# raise NotImplementedError()"
   ]
  }
 ],
 "metadata": {
  "jupytext": {
   "notebook_metadata_filter": "all,-language_info,-toc,-latex_envs",
   "text_representation": {
    "extension": ".md",
    "format_name": "myst",
    "format_version": 0.12,
    "jupytext_version": "1.6.0"
   }
  },
  "kernelspec": {
   "display_name": "Python 3",
   "language": "python",
   "name": "python3"
  },
  "language_info": {
   "codemirror_mode": {
    "name": "ipython",
    "version": 3
   },
   "file_extension": ".py",
   "mimetype": "text/x-python",
   "name": "python",
   "nbconvert_exporter": "python",
   "pygments_lexer": "ipython3",
   "version": "3.8.6"
  },
  "source_map": [
   15,
   21,
   26,
   50,
   66,
   93
  ]
 },
 "nbformat": 4,
 "nbformat_minor": 4
}