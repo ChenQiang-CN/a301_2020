{
 "cells": [
  {
   "cell_type": "code",
   "execution_count": null,
   "metadata": {},
   "outputs": [],
   "source": [
    "import datetime\n",
    "from pathlib import Path\n",
    "\n",
    "import numpy as np\n",
    "import pytz\n",
    "import rasterio\n",
    "import seaborn as sns"
   ]
  },
  {
   "cell_type": "code",
   "execution_count": null,
   "metadata": {},
   "outputs": [],
   "source": [
    "from matplotlib import pyplot as plt\n",
    "from skimage import exposure, img_as_ubyte"
   ]
  },
  {
   "cell_type": "code",
   "execution_count": null,
   "metadata": {},
   "outputs": [],
   "source": [
    "import a301_lib  # noqa\n",
    "\n",
    "pacific = pytz.timezone(\"US/Pacific\")\n",
    "date = datetime.datetime.today().astimezone(pacific)\n",
    "print(f\"written on {date}\")"
   ]
  },
  {
   "cell_type": "markdown",
   "metadata": {},
   "source": [
    "(rasterio_png)=\n",
    "# Making a png image\n",
    "\n",
    "In the cells below I read in bands 3, 4 and 5 from the\n",
    "`vancouver_345_refl.tiff` that was produced by the\n",
    "{ref}`rasterio_3bands` notebook. and convert it to a png file so\n",
    "I can look at it with standard image viewers.   I use \"histogram equalization\"\n",
    "from the scikit-image library to boost the color contrast in each of the bands.  I\n",
    "check the histograms using the jointplot function from the seaborn plotting library\n",
    "that adds a lot of nice features to matplotlib.  The new normailzed bands are put\n",
    "together to make a \"false color composite\" that shows vegetation as purple."
   ]
  },
  {
   "cell_type": "code",
   "execution_count": null,
   "metadata": {},
   "outputs": [],
   "source": [
    "notebook_dir = Path().resolve().parent\n",
    "print(notebook_dir)\n",
    "week10_scene = notebook_dir / \"week10/vancouver_345_refl.tiff\"\n",
    "\n",
    "with rasterio.open(week10_scene) as van_raster:\n",
    "    b3_refl = van_raster.read(1)\n",
    "    chan1_tags = van_raster.tags(1)\n",
    "    b4_refl = van_raster.read(2)\n",
    "    chan2_tags = van_raster.tags(2)\n",
    "    b5_refl = van_raster.read(3)\n",
    "    chan3_tags = van_raster.tags(3)\n",
    "    crs = van_raster.profile[\"crs\"]\n",
    "    transform = van_raster.profile[\"transform\"]\n",
    "    tags = van_raster.tags()\n",
    "print(tags, chan1_tags)"
   ]
  },
  {
   "cell_type": "markdown",
   "metadata": {},
   "source": [
    "## Note the low reflectivity for band 3"
   ]
  },
  {
   "cell_type": "code",
   "execution_count": null,
   "metadata": {},
   "outputs": [],
   "source": [
    "plt.imshow(b3_refl)"
   ]
  },
  {
   "cell_type": "markdown",
   "metadata": {},
   "source": [
    "* Below I do some joint histograms of band3 vs. band 4 to get a feeling for the distribution"
   ]
  },
  {
   "cell_type": "code",
   "execution_count": null,
   "metadata": {},
   "outputs": [],
   "source": [
    "sns.jointplot(\n",
    "    x=b3_refl.flat,\n",
    "    y=b4_refl.flat,\n",
    "    xlim=(0, 0.2),\n",
    "    ylim=(0.0, 0.2),\n",
    "    kind=\"hex\",\n",
    "    color=\"#4CB391\",\n",
    ")"
   ]
  },
  {
   "cell_type": "code",
   "execution_count": null,
   "metadata": {},
   "outputs": [],
   "source": [
    "sns.jointplot(\n",
    "    x=b4_refl.flat,\n",
    "    y=b5_refl.flat,\n",
    "    kind=\"hex\",\n",
    "    xlim=(0, 0.3),\n",
    "    ylim=(0.0, 0.5),\n",
    "    color=\"#4CB391\",\n",
    ")"
   ]
  },
  {
   "cell_type": "markdown",
   "metadata": {},
   "source": [
    "* I'm okay with changing the data values to get a qualitative feeling\n",
    "  for the image.  To do this, I can use the scikit-image equalization module\n",
    "  See this doc for more information: https://scikit-image.org/docs/dev/auto_examples/color_exposure/plot_equalize.html"
   ]
  },
  {
   "cell_type": "code",
   "execution_count": null,
   "metadata": {},
   "outputs": [],
   "source": [
    "channels = np.empty([3, b3_refl.shape[0], b3_refl.shape[1]], dtype=np.uint8)\n",
    "for index, image in enumerate([b3_refl, b4_refl, b5_refl]):\n",
    "    stretched = exposure.equalize_hist(image)\n",
    "    channels[index, :, :] = img_as_ubyte(stretched)"
   ]
  },
  {
   "cell_type": "code",
   "execution_count": null,
   "metadata": {},
   "outputs": [],
   "source": [
    "plt.imshow(channels[0, :, :])"
   ]
  },
  {
   "cell_type": "markdown",
   "metadata": {},
   "source": [
    "https://seaborn.pydata.org/generated/seaborn.jointplot.html"
   ]
  },
  {
   "cell_type": "code",
   "execution_count": null,
   "metadata": {},
   "outputs": [],
   "source": [
    "the_data = {\"band3\": channels[0, ...].flat, \"band4\": channels[1, ...].flat}\n",
    "sns.jointplot(\n",
    "    x=\"band3\",\n",
    "    y=\"band4\",\n",
    "    data=the_data,\n",
    "    xlim=(0, 255),\n",
    "    ylim=(0.0, 255),\n",
    "    kind=\"hex\",\n",
    "    color=\"#4CB391\",\n",
    ")"
   ]
  },
  {
   "cell_type": "markdown",
   "metadata": {},
   "source": [
    "## Write out the png\n",
    "\n",
    "Now that I have 3 bands scaled from 0-255, I can write them out as\n",
    "a png file, with new tags"
   ]
  },
  {
   "cell_type": "code",
   "execution_count": null,
   "metadata": {},
   "outputs": [],
   "source": [
    "png_filename = notebook_dir / \"week10/vancouver_345_stretched.png\"\n",
    "num_chans, height, width = channels.shape\n",
    "with rasterio.open(\n",
    "    png_filename,\n",
    "    \"w\",\n",
    "    driver=\"PNG\",\n",
    "    height=height,\n",
    "    width=width,\n",
    "    count=num_chans,\n",
    "    dtype=channels.dtype,\n",
    "    crs=crs,\n",
    "    transform=transform,\n",
    "    nodata=0.0,\n",
    ") as dst:\n",
    "    chan_tags = [\n",
    "        \"LC8_Band3_refl_counts\",\n",
    "        \"LC8_Band4_refl_counts\",\n",
    "        \"LC8_Band5_refl_counts\",\n",
    "    ]\n",
    "    dst.update_tags(**tags)\n",
    "    dst.update_tags(written_on=str(datetime.date.today()))\n",
    "    dst.update_tags(history=\"written by scene_image.md\")\n",
    "    dst.write(channels)\n",
    "    keys = [\"3\", \"4\", \"5\"]\n",
    "    for index, chan_name in enumerate(keys):\n",
    "        chan_name = f\"band_{chan_name}\"\n",
    "        valid_range = \"0,255\"\n",
    "        dst.update_tags(index + 1, name=chan_name)\n",
    "        dst.update_tags(index + 1, valid_range=valid_range)"
   ]
  },
  {
   "cell_type": "markdown",
   "metadata": {},
   "source": [
    "## View the image\n",
    "\n",
    "Here's the finished image -- since Band 4 is the wavelength that\n",
    "plants use for photosynthesis, it's reflectivity values are\n",
    "very low for vegetated pixels.  Only Band 3 (green now mapped to blue) and\n",
    "Band 5 (near-ir now mapped to red) are reflecting, which makes purple.\n",
    "\n",
    "\n",
    "Image(filename=png_filename, width=\"80%\")"
   ]
  }
 ],
 "metadata": {
  "jupytext": {
   "notebook_metadata_filter": "all,-language_info,-toc,-latex_envs",
   "text_representation": {
    "extension": ".md",
    "format_name": "myst",
    "format_version": 0.12,
    "jupytext_version": "1.6.0"
   }
  },
  "kernelspec": {
   "display_name": "Python 3",
   "language": "python",
   "name": "python3"
  },
  "source_map": [
   15,
   25,
   30,
   36,
   50,
   66,
   70,
   72,
   76,
   87,
   96,
   102,
   109,
   111,
   115,
   126,
   133,
   163
  ]
 },
 "nbformat": 4,
 "nbformat_minor": 4
}