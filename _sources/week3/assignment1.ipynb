{
 "cells": [
  {
   "cell_type": "markdown",
   "metadata": {},
   "source": [
    "(assign1)=\n",
    "# Assignment 1 -- brightness temperatures\n",
    "\n",
    "Upload this notebook to canvas by 10am Monday Sept. 28"
   ]
  },
  {
   "cell_type": "markdown",
   "metadata": {},
   "source": [
    "## Problem 1\n",
    "\n",
    "In the cell below define a function that inverts the radiance (in MKS units) for the\n",
    "brightness temperature in Kelvins.  Use the same format as the {ref}`sec:planck` notebook,\n",
    "and use the %%file magic to output your function to a file called `planck_invert.py`\n",
    "\n",
    "i.e. the top of the cell should look like:\n",
    "\n",
    "```python\n",
    "%%file planck_invert.py\n",
    "def radiance_invert(wavelengths, Lstar):\n",
    "   etc.\n",
    "```"
   ]
  },
  {
   "cell_type": "markdown",
   "metadata": {},
   "source": [
    "## Problem 2\n",
    "\n",
    "In the next cell import your `radiance_invert function` and use it to turn the calibrated\n",
    "radiances you've written out in your `modis_data_analysis` notebook into brightness temperatures\n",
    "in Kelvins.  Plot the temperatures as an image, using a colorbar as in Modis level1b notebook"
   ]
  }
 ],
 "metadata": {
  "jupytext": {
   "cell_metadata_filter": "all",
   "notebook_metadata_filter": "all,-language_info,-toc,-latex_envs",
   "text_representation": {
    "extension": ".md",
    "format_name": "myst",
    "format_version": 0.12,
    "jupytext_version": "1.6.0-dev"
   }
  },
  "kernelspec": {
   "display_name": "Python 3",
   "language": "python",
   "name": "python3"
  },
  "language_info": {
   "codemirror_mode": {
    "name": "ipython",
    "version": 3
   },
   "file_extension": ".py",
   "mimetype": "text/x-python",
   "name": "python",
   "nbconvert_exporter": "python",
   "pygments_lexer": "ipython3",
   "version": "3.8.6"
  },
  "source_map": [
   14,
   21,
   37
  ]
 },
 "nbformat": 4,
 "nbformat_minor": 4
}